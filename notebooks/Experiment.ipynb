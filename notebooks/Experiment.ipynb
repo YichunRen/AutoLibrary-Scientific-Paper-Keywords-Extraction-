{
 "cells": [
  {
   "cell_type": "code",
   "execution_count": 1,
   "metadata": {},
   "outputs": [],
   "source": [
    "%load_ext autoreload\n",
    "%autoreload 2\n",
    "import os\n",
    "import sys\n",
    "import pandas as pd\n",
    "import numpy as np\n",
    "sys.path.insert(0, '../src')\n",
    "import utils"
   ]
  },
  {
   "cell_type": "markdown",
   "metadata": {},
   "source": [
    "# Results from other Text Analyzers"
   ]
  },
  {
   "cell_type": "markdown",
   "metadata": {},
   "source": [
    "To test the performance of our application <i> AutoLibrary </i>, we experiment it with three other text analyzers.\n",
    "\n",
    "- AutoLibrary: Used AutoPhrase to extract phrases and keywords and assigns quality scores to each of them. Requires human labor to label quality scores.\n",
    "\n",
    "- Jstor: https://www.jstor.org/analyze/. This search engine has its own text analyzer. It requires human labor to label quality scores.\n",
    "\n",
    "- Webtools:  https://www.webtools.services/text-analyzer\n",
    "    This website tool helps us find the frequency of phrases in a document. We then standardize it to form scores in range of 0 to 1.\n",
    "\n",
    "- MonkeyLearn: https://monkeylearn.com/text-analyzer/\n",
    "    This text analyzer extracts keywords from the document. It requires human labor to label quality scores."
   ]
  },
  {
   "cell_type": "code",
   "execution_count": 2,
   "metadata": {},
   "outputs": [],
   "source": [
    "# dataframe for accuracy\n",
    "top40_acc_df = pd.DataFrame(columns = [\"Analyzer\", \"Accuracy\", \"Domain\"])\n",
    "top10_acc_df = pd.DataFrame(columns = [\"Analyzer\", \"Accuracy\", \"Domain\"])"
   ]
  },
  {
   "cell_type": "markdown",
   "metadata": {},
   "source": [
    "Run AutoLibrary to get weighted scores for all domains"
   ]
  },
  {
   "cell_type": "code",
   "execution_count": 3,
   "metadata": {},
   "outputs": [
    {
     "data": {
      "text/html": [
       "<div>\n",
       "<style scoped>\n",
       "    .dataframe tbody tr th:only-of-type {\n",
       "        vertical-align: middle;\n",
       "    }\n",
       "\n",
       "    .dataframe tbody tr th {\n",
       "        vertical-align: top;\n",
       "    }\n",
       "\n",
       "    .dataframe thead tr th {\n",
       "        text-align: left;\n",
       "    }\n",
       "</style>\n",
       "<table border=\"1\" class=\"dataframe\">\n",
       "  <thead>\n",
       "    <tr>\n",
       "      <th></th>\n",
       "      <th colspan=\"2\" halign=\"left\">Statistics</th>\n",
       "      <th colspan=\"2\" halign=\"left\">Electrical Engineering and Systems Science</th>\n",
       "      <th colspan=\"2\" halign=\"left\">Mathematics</th>\n",
       "      <th colspan=\"2\" halign=\"left\">Quantitative Finance</th>\n",
       "      <th colspan=\"2\" halign=\"left\">Economics</th>\n",
       "      <th colspan=\"2\" halign=\"left\">Physics</th>\n",
       "      <th colspan=\"2\" halign=\"left\">Quantitative Biology</th>\n",
       "      <th colspan=\"2\" halign=\"left\">Computer Science</th>\n",
       "    </tr>\n",
       "    <tr>\n",
       "      <th></th>\n",
       "      <th>phrase</th>\n",
       "      <th>score</th>\n",
       "      <th>phrase</th>\n",
       "      <th>score</th>\n",
       "      <th>phrase</th>\n",
       "      <th>score</th>\n",
       "      <th>phrase</th>\n",
       "      <th>score</th>\n",
       "      <th>phrase</th>\n",
       "      <th>score</th>\n",
       "      <th>phrase</th>\n",
       "      <th>score</th>\n",
       "      <th>phrase</th>\n",
       "      <th>score</th>\n",
       "      <th>phrase</th>\n",
       "      <th>score</th>\n",
       "    </tr>\n",
       "  </thead>\n",
       "  <tbody>\n",
       "    <tr>\n",
       "      <th>0</th>\n",
       "      <td>post hoc</td>\n",
       "      <td>0.563277</td>\n",
       "      <td>magnetic resonance</td>\n",
       "      <td>0.892167</td>\n",
       "      <td>state space</td>\n",
       "      <td>0.907407</td>\n",
       "      <td>price formation</td>\n",
       "      <td>0.492314</td>\n",
       "      <td>affirmative action</td>\n",
       "      <td>0.854857</td>\n",
       "      <td>gravitational field</td>\n",
       "      <td>0.892916</td>\n",
       "      <td>finite element</td>\n",
       "      <td>0.857318</td>\n",
       "      <td>mental health</td>\n",
       "      <td>0.917283</td>\n",
       "    </tr>\n",
       "    <tr>\n",
       "      <th>1</th>\n",
       "      <td>chen</td>\n",
       "      <td>0.511308</td>\n",
       "      <td>deep learning</td>\n",
       "      <td>0.828240</td>\n",
       "      <td>initial state</td>\n",
       "      <td>0.876937</td>\n",
       "      <td>stochastic differential</td>\n",
       "      <td>0.482875</td>\n",
       "      <td>school choice</td>\n",
       "      <td>0.765075</td>\n",
       "      <td>general relativity</td>\n",
       "      <td>0.883619</td>\n",
       "      <td>steady state</td>\n",
       "      <td>0.766612</td>\n",
       "      <td>automatic speech recognition</td>\n",
       "      <td>0.876298</td>\n",
       "    </tr>\n",
       "    <tr>\n",
       "      <th>2</th>\n",
       "      <td>uk</td>\n",
       "      <td>0.490869</td>\n",
       "      <td>fine tuning</td>\n",
       "      <td>0.696476</td>\n",
       "      <td>policy gradient</td>\n",
       "      <td>0.825594</td>\n",
       "      <td>game</td>\n",
       "      <td>0.447040</td>\n",
       "      <td>incentive compatibility</td>\n",
       "      <td>0.723872</td>\n",
       "      <td>quantum mechanics</td>\n",
       "      <td>0.875915</td>\n",
       "      <td>quasi static</td>\n",
       "      <td>0.661856</td>\n",
       "      <td>substance abuse</td>\n",
       "      <td>0.871875</td>\n",
       "    </tr>\n",
       "    <tr>\n",
       "      <th>3</th>\n",
       "      <td>lim</td>\n",
       "      <td>0.472009</td>\n",
       "      <td>multi coil</td>\n",
       "      <td>0.695884</td>\n",
       "      <td>lower bounds</td>\n",
       "      <td>0.820748</td>\n",
       "      <td>stochastic</td>\n",
       "      <td>0.434419</td>\n",
       "      <td>american</td>\n",
       "      <td>0.513310</td>\n",
       "      <td>wave function</td>\n",
       "      <td>0.861265</td>\n",
       "      <td>brain tissue</td>\n",
       "      <td>0.571348</td>\n",
       "      <td>machine learning</td>\n",
       "      <td>0.833653</td>\n",
       "    </tr>\n",
       "    <tr>\n",
       "      <th>4</th>\n",
       "      <td>appendix</td>\n",
       "      <td>0.459412</td>\n",
       "      <td>cine mri</td>\n",
       "      <td>0.692821</td>\n",
       "      <td>upper bounds</td>\n",
       "      <td>0.760767</td>\n",
       "      <td>control</td>\n",
       "      <td>0.418807</td>\n",
       "      <td>college</td>\n",
       "      <td>0.500523</td>\n",
       "      <td>quantum theory</td>\n",
       "      <td>0.849949</td>\n",
       "      <td>journal</td>\n",
       "      <td>0.502073</td>\n",
       "      <td>speech recognition</td>\n",
       "      <td>0.684244</td>\n",
       "    </tr>\n",
       "    <tr>\n",
       "      <th>5</th>\n",
       "      <td>section</td>\n",
       "      <td>0.450614</td>\n",
       "      <td>ms ssim</td>\n",
       "      <td>0.634603</td>\n",
       "      <td>upper bound</td>\n",
       "      <td>0.743966</td>\n",
       "      <td>market clearing</td>\n",
       "      <td>0.412391</td>\n",
       "      <td>journal</td>\n",
       "      <td>0.485510</td>\n",
       "      <td>gravitational waves</td>\n",
       "      <td>0.725033</td>\n",
       "      <td>fracture</td>\n",
       "      <td>0.482645</td>\n",
       "      <td>real world</td>\n",
       "      <td>0.549731</td>\n",
       "    </tr>\n",
       "    <tr>\n",
       "      <th>6</th>\n",
       "      <td>ar</td>\n",
       "      <td>0.448357</td>\n",
       "      <td>dictionary learning</td>\n",
       "      <td>0.627884</td>\n",
       "      <td>holds true</td>\n",
       "      <td>0.740892</td>\n",
       "      <td>games</td>\n",
       "      <td>0.412282</td>\n",
       "      <td>choice rules</td>\n",
       "      <td>0.476397</td>\n",
       "      <td>yang mills</td>\n",
       "      <td>0.710754</td>\n",
       "      <td>engineering</td>\n",
       "      <td>0.477469</td>\n",
       "      <td>utterance level</td>\n",
       "      <td>0.502412</td>\n",
       "    </tr>\n",
       "    <tr>\n",
       "      <th>7</th>\n",
       "      <td>pr</td>\n",
       "      <td>0.438766</td>\n",
       "      <td>cartesian</td>\n",
       "      <td>0.581321</td>\n",
       "      <td>lower bound</td>\n",
       "      <td>0.740883</td>\n",
       "      <td>price process</td>\n",
       "      <td>0.408539</td>\n",
       "      <td>chile</td>\n",
       "      <td>0.437769</td>\n",
       "      <td>field theory</td>\n",
       "      <td>0.660215</td>\n",
       "      <td>dw</td>\n",
       "      <td>0.475907</td>\n",
       "      <td>diarization</td>\n",
       "      <td>0.494419</td>\n",
       "    </tr>\n",
       "    <tr>\n",
       "      <th>8</th>\n",
       "      <td>law</td>\n",
       "      <td>0.432914</td>\n",
       "      <td>network architecture</td>\n",
       "      <td>0.572861</td>\n",
       "      <td>policy optimization</td>\n",
       "      <td>0.739476</td>\n",
       "      <td>mean field games</td>\n",
       "      <td>0.408051</td>\n",
       "      <td>review</td>\n",
       "      <td>0.429024</td>\n",
       "      <td>universe</td>\n",
       "      <td>0.586595</td>\n",
       "      <td>energy dissipation</td>\n",
       "      <td>0.472119</td>\n",
       "      <td>university</td>\n",
       "      <td>0.485229</td>\n",
       "    </tr>\n",
       "    <tr>\n",
       "      <th>9</th>\n",
       "      <td>asymptotic power</td>\n",
       "      <td>0.432416</td>\n",
       "      <td>ieee</td>\n",
       "      <td>0.532896</td>\n",
       "      <td>crossing times</td>\n",
       "      <td>0.588507</td>\n",
       "      <td>financial</td>\n",
       "      <td>0.402997</td>\n",
       "      <td>backward</td>\n",
       "      <td>0.419779</td>\n",
       "      <td>gravitation</td>\n",
       "      <td>0.582881</td>\n",
       "      <td>cutting</td>\n",
       "      <td>0.462925</td>\n",
       "      <td>code</td>\n",
       "      <td>0.483310</td>\n",
       "    </tr>\n",
       "    <tr>\n",
       "      <th>10</th>\n",
       "      <td>separable</td>\n",
       "      <td>0.428614</td>\n",
       "      <td>fine tuned</td>\n",
       "      <td>0.529951</td>\n",
       "      <td>entropy regularization</td>\n",
       "      <td>0.519889</td>\n",
       "      <td>optimization</td>\n",
       "      <td>0.400598</td>\n",
       "      <td>iv</td>\n",
       "      <td>0.419383</td>\n",
       "      <td>ref</td>\n",
       "      <td>0.580637</td>\n",
       "      <td>physics</td>\n",
       "      <td>0.459031</td>\n",
       "      <td>annual</td>\n",
       "      <td>0.483110</td>\n",
       "    </tr>\n",
       "    <tr>\n",
       "      <th>11</th>\n",
       "      <td>gaussian</td>\n",
       "      <td>0.428142</td>\n",
       "      <td>trainable parameters</td>\n",
       "      <td>0.528611</td>\n",
       "      <td>arxiv preprint arxiv</td>\n",
       "      <td>0.517943</td>\n",
       "      <td>probability</td>\n",
       "      <td>0.390429</td>\n",
       "      <td>public</td>\n",
       "      <td>0.418359</td>\n",
       "      <td>feynman</td>\n",
       "      <td>0.576718</td>\n",
       "      <td>soft</td>\n",
       "      <td>0.441014</td>\n",
       "      <td>spearman</td>\n",
       "      <td>0.481876</td>\n",
       "    </tr>\n",
       "    <tr>\n",
       "      <th>12</th>\n",
       "      <td>h2</td>\n",
       "      <td>0.425777</td>\n",
       "      <td>dc</td>\n",
       "      <td>0.527117</td>\n",
       "      <td>hypothesis</td>\n",
       "      <td>0.513784</td>\n",
       "      <td>ce</td>\n",
       "      <td>0.381366</td>\n",
       "      <td>section</td>\n",
       "      <td>0.403542</td>\n",
       "      <td>einstein</td>\n",
       "      <td>0.574153</td>\n",
       "      <td>mechanics</td>\n",
       "      <td>0.440835</td>\n",
       "      <td>therapist</td>\n",
       "      <td>0.477656</td>\n",
       "    </tr>\n",
       "    <tr>\n",
       "      <th>13</th>\n",
       "      <td>wilson</td>\n",
       "      <td>0.423929</td>\n",
       "      <td>mri</td>\n",
       "      <td>0.526679</td>\n",
       "      <td>optimal</td>\n",
       "      <td>0.498468</td>\n",
       "      <td>mfg</td>\n",
       "      <td>0.377562</td>\n",
       "      <td>india</td>\n",
       "      <td>0.399252</td>\n",
       "      <td>relativity</td>\n",
       "      <td>0.566364</td>\n",
       "      <td>brain</td>\n",
       "      <td>0.428432</td>\n",
       "      <td>asr</td>\n",
       "      <td>0.477511</td>\n",
       "    </tr>\n",
       "    <tr>\n",
       "      <th>14</th>\n",
       "      <td>ii</td>\n",
       "      <td>0.423105</td>\n",
       "      <td>radial</td>\n",
       "      <td>0.525634</td>\n",
       "      <td>long</td>\n",
       "      <td>0.497295</td>\n",
       "      <td>hg</td>\n",
       "      <td>0.372684</td>\n",
       "      <td>economic</td>\n",
       "      <td>0.393846</td>\n",
       "      <td>conference</td>\n",
       "      <td>0.565429</td>\n",
       "      <td>dissipation</td>\n",
       "      <td>0.425072</td>\n",
       "      <td>health</td>\n",
       "      <td>0.477347</td>\n",
       "    </tr>\n",
       "  </tbody>\n",
       "</table>\n",
       "</div>"
      ],
      "text/plain": [
       "          Statistics           Electrical Engineering and Systems Science  \\\n",
       "              phrase     score                                     phrase   \n",
       "0           post hoc  0.563277                         magnetic resonance   \n",
       "1               chen  0.511308                              deep learning   \n",
       "2                 uk  0.490869                                fine tuning   \n",
       "3                lim  0.472009                                 multi coil   \n",
       "4           appendix  0.459412                                   cine mri   \n",
       "5            section  0.450614                                    ms ssim   \n",
       "6                 ar  0.448357                        dictionary learning   \n",
       "7                 pr  0.438766                                  cartesian   \n",
       "8                law  0.432914                       network architecture   \n",
       "9   asymptotic power  0.432416                                       ieee   \n",
       "10         separable  0.428614                                 fine tuned   \n",
       "11          gaussian  0.428142                       trainable parameters   \n",
       "12                h2  0.425777                                         dc   \n",
       "13            wilson  0.423929                                        mri   \n",
       "14                ii  0.423105                                     radial   \n",
       "\n",
       "                         Mathematics               Quantitative Finance  \\\n",
       "       score                  phrase     score                   phrase   \n",
       "0   0.892167             state space  0.907407          price formation   \n",
       "1   0.828240           initial state  0.876937  stochastic differential   \n",
       "2   0.696476         policy gradient  0.825594                     game   \n",
       "3   0.695884            lower bounds  0.820748               stochastic   \n",
       "4   0.692821            upper bounds  0.760767                  control   \n",
       "5   0.634603             upper bound  0.743966          market clearing   \n",
       "6   0.627884              holds true  0.740892                    games   \n",
       "7   0.581321             lower bound  0.740883            price process   \n",
       "8   0.572861     policy optimization  0.739476         mean field games   \n",
       "9   0.532896          crossing times  0.588507                financial   \n",
       "10  0.529951  entropy regularization  0.519889             optimization   \n",
       "11  0.528611    arxiv preprint arxiv  0.517943              probability   \n",
       "12  0.527117              hypothesis  0.513784                       ce   \n",
       "13  0.526679                 optimal  0.498468                      mfg   \n",
       "14  0.525634                    long  0.497295                       hg   \n",
       "\n",
       "                            Economics                        Physics  \\\n",
       "       score                   phrase     score               phrase   \n",
       "0   0.492314       affirmative action  0.854857  gravitational field   \n",
       "1   0.482875            school choice  0.765075   general relativity   \n",
       "2   0.447040  incentive compatibility  0.723872    quantum mechanics   \n",
       "3   0.434419                 american  0.513310        wave function   \n",
       "4   0.418807                  college  0.500523       quantum theory   \n",
       "5   0.412391                  journal  0.485510  gravitational waves   \n",
       "6   0.412282             choice rules  0.476397           yang mills   \n",
       "7   0.408539                    chile  0.437769         field theory   \n",
       "8   0.408051                   review  0.429024             universe   \n",
       "9   0.402997                 backward  0.419779          gravitation   \n",
       "10  0.400598                       iv  0.419383                  ref   \n",
       "11  0.390429                   public  0.418359              feynman   \n",
       "12  0.381366                  section  0.403542             einstein   \n",
       "13  0.377562                    india  0.399252           relativity   \n",
       "14  0.372684                 economic  0.393846           conference   \n",
       "\n",
       "             Quantitative Biology                        Computer Science  \\\n",
       "       score               phrase     score                        phrase   \n",
       "0   0.892916       finite element  0.857318                 mental health   \n",
       "1   0.883619         steady state  0.766612  automatic speech recognition   \n",
       "2   0.875915         quasi static  0.661856               substance abuse   \n",
       "3   0.861265         brain tissue  0.571348              machine learning   \n",
       "4   0.849949              journal  0.502073            speech recognition   \n",
       "5   0.725033             fracture  0.482645                    real world   \n",
       "6   0.710754          engineering  0.477469               utterance level   \n",
       "7   0.660215                   dw  0.475907                   diarization   \n",
       "8   0.586595   energy dissipation  0.472119                    university   \n",
       "9   0.582881              cutting  0.462925                          code   \n",
       "10  0.580637              physics  0.459031                        annual   \n",
       "11  0.576718                 soft  0.441014                      spearman   \n",
       "12  0.574153            mechanics  0.440835                     therapist   \n",
       "13  0.566364                brain  0.428432                           asr   \n",
       "14  0.565429          dissipation  0.425072                        health   \n",
       "\n",
       "              \n",
       "       score  \n",
       "0   0.917283  \n",
       "1   0.876298  \n",
       "2   0.871875  \n",
       "3   0.833653  \n",
       "4   0.684244  \n",
       "5   0.549731  \n",
       "6   0.502412  \n",
       "7   0.494419  \n",
       "8   0.485229  \n",
       "9   0.483310  \n",
       "10  0.483110  \n",
       "11  0.481876  \n",
       "12  0.477656  \n",
       "13  0.477511  \n",
       "14  0.477347  "
      ]
     },
     "execution_count": 3,
     "metadata": {},
     "output_type": "execute_result"
    }
   ],
   "source": [
    "dirs = os.listdir('../references/experiment data')\n",
    "#dirs.remove('.DS_Store')\n",
    "\n",
    "weighted = {}\n",
    "weighted_all = {}\n",
    "weighted_stats = pd.DataFrame()\n",
    "for directory in dirs:\n",
    "    fp = '../references/experiment data/' + directory + '/weighted_AutoPhrase.csv'\n",
    "    df = pd.read_csv(fp, index_col='Unnamed: 0')\n",
    "    weighted_all[directory] = df\n",
    "    weighted[directory] = df\n",
    "    weighted_stats[directory] = df['score'].describe()\n",
    "weighted_df = pd.concat(weighted, axis=1)\n",
    "weighted_df.head(15)"
   ]
  },
  {
   "cell_type": "markdown",
   "metadata": {},
   "source": [
    "## Computer Science"
   ]
  },
  {
   "cell_type": "markdown",
   "metadata": {},
   "source": [
    "### Jstor"
   ]
  },
  {
   "cell_type": "code",
   "execution_count": 4,
   "metadata": {},
   "outputs": [
    {
     "data": {
      "text/plain": [
       "40"
      ]
     },
     "execution_count": 4,
     "metadata": {},
     "output_type": "execute_result"
    }
   ],
   "source": [
    "# score\n",
    "jstor_cs_phrases = [\"Psychotherapy\",\n",
    "\"Machine learning\",\n",
    "\"Text analytics\",\n",
    "\"Health care quality\",\n",
    "\"Academic aptitude\",\n",
    "\"Art therapy\",\n",
    "\"Big data\",\n",
    "\"Biomedical data\",\n",
    "\"Computer centers\",\n",
    "\"Audio engineering\",\n",
    "\"Code pages\",\n",
    "\"Compensatory education\",\n",
    "\"Computer programming\",\n",
    "\"Data analysis\",\n",
    "\"Data collection\",\n",
    "\"Educational technology\",\n",
    "\"Data transcription\",\n",
    "\"Data models\",\n",
    "\"Government information\",\n",
    "\"Health care utilization\",\n",
    "\"In state students\",\n",
    "\"Information attributes\",\n",
    "\"Learning\",\n",
    "\"Learning by doing\",\n",
    "\"Logistic regression\",\n",
    "\"Learning strategies\",\n",
    "\"Out of state students\",\n",
    "\"Psychological research\",\n",
    "\"Public health\",\n",
    "\"Speech acts\",\n",
    "\"School counseling\",\n",
    "\"Second language learning\",\n",
    "\"Student interests\",\n",
    "\"Students\",\n",
    "\"Time series\",\n",
    "\"Test theory\",\n",
    "\"Small area data\",\n",
    "\"Surveillance\",\n",
    "\"Time series forecasting\",\n",
    "\"ZIP codes\"]\n",
    "len(jstor_cs_phrases)"
   ]
  },
  {
   "cell_type": "code",
   "execution_count": 5,
   "metadata": {},
   "outputs": [
    {
     "data": {
      "text/html": [
       "<div>\n",
       "<style scoped>\n",
       "    .dataframe tbody tr th:only-of-type {\n",
       "        vertical-align: middle;\n",
       "    }\n",
       "\n",
       "    .dataframe tbody tr th {\n",
       "        vertical-align: top;\n",
       "    }\n",
       "\n",
       "    .dataframe thead th {\n",
       "        text-align: right;\n",
       "    }\n",
       "</style>\n",
       "<table border=\"1\" class=\"dataframe\">\n",
       "  <thead>\n",
       "    <tr style=\"text-align: right;\">\n",
       "      <th></th>\n",
       "      <th>Analyzer</th>\n",
       "      <th>Accuracy</th>\n",
       "      <th>Domain</th>\n",
       "    </tr>\n",
       "  </thead>\n",
       "  <tbody>\n",
       "    <tr>\n",
       "      <th>0</th>\n",
       "      <td>Jstor</td>\n",
       "      <td>0.375</td>\n",
       "      <td>Computer Science</td>\n",
       "    </tr>\n",
       "  </tbody>\n",
       "</table>\n",
       "</div>"
      ],
      "text/plain": [
       "  Analyzer  Accuracy            Domain\n",
       "0    Jstor     0.375  Computer Science"
      ]
     },
     "execution_count": 5,
     "metadata": {},
     "output_type": "execute_result"
    }
   ],
   "source": [
    "jstor_cs_labels = [1, 1, 1, 0, 0, 0, 1, 1, 0, 1, 0, 0, 0, 1, 1, 0, 0, 1, 0, 0, 0, 0, 0, 0, 1, 0, 0, 1, 0, 0, 1, 0, 0, 0, 1, 0, 0, 1, 1, 0]\n",
    "top40_acc_df = top40_acc_df.append({\"Accuracy\": np.mean(jstor_cs_labels), \"Analyzer\": \"Jstor\", \"Domain\": \"Computer Science\"}, ignore_index = True)\n",
    "top40_acc_df"
   ]
  },
  {
   "cell_type": "markdown",
   "metadata": {},
   "source": [
    "### AutoLibrary"
   ]
  },
  {
   "cell_type": "code",
   "execution_count": 6,
   "metadata": {},
   "outputs": [
    {
     "data": {
      "text/html": [
       "<div>\n",
       "<style scoped>\n",
       "    .dataframe tbody tr th:only-of-type {\n",
       "        vertical-align: middle;\n",
       "    }\n",
       "\n",
       "    .dataframe tbody tr th {\n",
       "        vertical-align: top;\n",
       "    }\n",
       "\n",
       "    .dataframe thead th {\n",
       "        text-align: right;\n",
       "    }\n",
       "</style>\n",
       "<table border=\"1\" class=\"dataframe\">\n",
       "  <thead>\n",
       "    <tr style=\"text-align: right;\">\n",
       "      <th></th>\n",
       "      <th>phrase</th>\n",
       "      <th>score</th>\n",
       "    </tr>\n",
       "  </thead>\n",
       "  <tbody>\n",
       "    <tr>\n",
       "      <th>0</th>\n",
       "      <td>mental health</td>\n",
       "      <td>0.917283</td>\n",
       "    </tr>\n",
       "    <tr>\n",
       "      <th>1</th>\n",
       "      <td>automatic speech recognition</td>\n",
       "      <td>0.876298</td>\n",
       "    </tr>\n",
       "    <tr>\n",
       "      <th>2</th>\n",
       "      <td>substance abuse</td>\n",
       "      <td>0.871875</td>\n",
       "    </tr>\n",
       "    <tr>\n",
       "      <th>3</th>\n",
       "      <td>machine learning</td>\n",
       "      <td>0.833653</td>\n",
       "    </tr>\n",
       "    <tr>\n",
       "      <th>4</th>\n",
       "      <td>speech recognition</td>\n",
       "      <td>0.684244</td>\n",
       "    </tr>\n",
       "  </tbody>\n",
       "</table>\n",
       "</div>"
      ],
      "text/plain": [
       "                         phrase     score\n",
       "0                 mental health  0.917283\n",
       "1  automatic speech recognition  0.876298\n",
       "2               substance abuse  0.871875\n",
       "3              machine learning  0.833653\n",
       "4            speech recognition  0.684244"
      ]
     },
     "execution_count": 6,
     "metadata": {},
     "output_type": "execute_result"
    }
   ],
   "source": [
    "autophrase_cs_df = weighted_df['Computer Science'].dropna().head(40)\n",
    "autophrase_cs_df.head(5)"
   ]
  },
  {
   "cell_type": "code",
   "execution_count": 7,
   "metadata": {},
   "outputs": [
    {
     "data": {
      "text/html": [
       "<div>\n",
       "<style scoped>\n",
       "    .dataframe tbody tr th:only-of-type {\n",
       "        vertical-align: middle;\n",
       "    }\n",
       "\n",
       "    .dataframe tbody tr th {\n",
       "        vertical-align: top;\n",
       "    }\n",
       "\n",
       "    .dataframe thead th {\n",
       "        text-align: right;\n",
       "    }\n",
       "</style>\n",
       "<table border=\"1\" class=\"dataframe\">\n",
       "  <thead>\n",
       "    <tr style=\"text-align: right;\">\n",
       "      <th></th>\n",
       "      <th>Analyzer</th>\n",
       "      <th>Accuracy</th>\n",
       "      <th>Domain</th>\n",
       "    </tr>\n",
       "  </thead>\n",
       "  <tbody>\n",
       "    <tr>\n",
       "      <th>0</th>\n",
       "      <td>Jstor</td>\n",
       "      <td>0.375</td>\n",
       "      <td>Computer Science</td>\n",
       "    </tr>\n",
       "    <tr>\n",
       "      <th>1</th>\n",
       "      <td>AutoLibrary</td>\n",
       "      <td>0.375</td>\n",
       "      <td>Computer Science</td>\n",
       "    </tr>\n",
       "  </tbody>\n",
       "</table>\n",
       "</div>"
      ],
      "text/plain": [
       "      Analyzer  Accuracy            Domain\n",
       "0        Jstor     0.375  Computer Science\n",
       "1  AutoLibrary     0.375  Computer Science"
      ]
     },
     "execution_count": 7,
     "metadata": {},
     "output_type": "execute_result"
    }
   ],
   "source": [
    "autophrase_cs_labels = [1, 1, 1, 1, 1, 0, 1, 1, 0, 0, \n",
    "                       0, 0, 1, 0, 0, 0, 1, 0, 0, 1,\n",
    "                       0, 0, 0, 1, 0, 1, 0, 1, 0, 0,\n",
    "                       0, 0, 0, 1, 0, 0, 0, 1, 0, 0]\n",
    "top40_acc_df = top40_acc_df.append({\"Accuracy\": np.mean(autophrase_cs_labels), \"Analyzer\": \"AutoLibrary\", \"Domain\": \"Computer Science\"}, ignore_index = True)\n",
    "top40_acc_df"
   ]
  },
  {
   "cell_type": "code",
   "execution_count": 8,
   "metadata": {},
   "outputs": [
    {
     "data": {
      "text/html": [
       "<div>\n",
       "<style scoped>\n",
       "    .dataframe tbody tr th:only-of-type {\n",
       "        vertical-align: middle;\n",
       "    }\n",
       "\n",
       "    .dataframe tbody tr th {\n",
       "        vertical-align: top;\n",
       "    }\n",
       "\n",
       "    .dataframe thead th {\n",
       "        text-align: right;\n",
       "    }\n",
       "</style>\n",
       "<table border=\"1\" class=\"dataframe\">\n",
       "  <thead>\n",
       "    <tr style=\"text-align: right;\">\n",
       "      <th></th>\n",
       "      <th>Analyzer</th>\n",
       "      <th>Accuracy</th>\n",
       "      <th>Domain</th>\n",
       "    </tr>\n",
       "  </thead>\n",
       "  <tbody>\n",
       "    <tr>\n",
       "      <th>0</th>\n",
       "      <td>AutoLibrary</td>\n",
       "      <td>0.7</td>\n",
       "      <td>Computer Science</td>\n",
       "    </tr>\n",
       "  </tbody>\n",
       "</table>\n",
       "</div>"
      ],
      "text/plain": [
       "      Analyzer  Accuracy            Domain\n",
       "0  AutoLibrary       0.7  Computer Science"
      ]
     },
     "execution_count": 8,
     "metadata": {},
     "output_type": "execute_result"
    }
   ],
   "source": [
    "top10_acc_df = top10_acc_df.append({\"Accuracy\": np.mean(autophrase_cs_labels[:10]), \"Analyzer\": \"AutoLibrary\", \"Domain\": \"Computer Science\"}, ignore_index = True)\n",
    "top10_acc_df"
   ]
  },
  {
   "cell_type": "markdown",
   "metadata": {},
   "source": [
    "### Webtools"
   ]
  },
  {
   "cell_type": "code",
   "execution_count": 9,
   "metadata": {},
   "outputs": [],
   "source": [
    "webtools_cs_phrases = {\"of the\": 74,\n",
    "\"et al\": 45,\n",
    "\"to the\": 36,\n",
    "\"in the\": 28,\n",
    "\"for the\": 27,\n",
    "\"in order\": 15,\n",
    "\"the therapist\": 15,\n",
    "\"and the\": 15,\n",
    "\"in order to\": 14,\n",
    "\"the system\": 14,\n",
    "\"by the\": 13,\n",
    "\"it is\": 12,\n",
    "\"of a\": 12,\n",
    "\"the session\": 12,\n",
    "\"at the\": 12,\n",
    "\"from the\": 12,\n",
    "\"of psychotherapy\": 11,\n",
    "\"able to\": 11,\n",
    "\"with the\": 10,\n",
    "\"we have\": 10,\n",
    "\"we are\": 10,\n",
    "\"is not\": 10,\n",
    "\"the two\": 10,\n",
    "\"between the\": 10,\n",
    "\"university of\": 9,\n",
    "\"in a\": 9,\n",
    "\"has been\": 9,\n",
    "\"behavioral coding\": 9,\n",
    "\"of the system\": 9,\n",
    "\"speech and\": 8,\n",
    "\"more than\": 8,\n",
    "\"is a\": 8,\n",
    "\"as a\": 8,\n",
    "\"a variety of\": 8,\n",
    "\"in this\": 8,\n",
    "\"based on\": 8,\n",
    "\"the client\": 8,\n",
    "\"to be\": 8,\n",
    "\"using the\": 8,\n",
    "\"automated evaluation\": 7}"
   ]
  },
  {
   "cell_type": "code",
   "execution_count": 10,
   "metadata": {},
   "outputs": [
    {
     "data": {
      "text/plain": [
       "{'of the': 1.0,\n",
       " 'et al': 0.5671641791044776,\n",
       " 'to the': 0.43283582089552236,\n",
       " 'in the': 0.31343283582089554,\n",
       " 'for the': 0.29850746268656714,\n",
       " 'in order': 0.11940298507462686,\n",
       " 'the therapist': 0.11940298507462686,\n",
       " 'and the': 0.11940298507462686,\n",
       " 'in order to': 0.1044776119402985,\n",
       " 'the system': 0.1044776119402985,\n",
       " 'by the': 0.08955223880597014,\n",
       " 'it is': 0.07462686567164178,\n",
       " 'of a': 0.07462686567164178,\n",
       " 'the session': 0.07462686567164178,\n",
       " 'at the': 0.07462686567164178,\n",
       " 'from the': 0.07462686567164178,\n",
       " 'of psychotherapy': 0.05970149253731343,\n",
       " 'able to': 0.05970149253731343,\n",
       " 'with the': 0.04477611940298507,\n",
       " 'we have': 0.04477611940298507,\n",
       " 'we are': 0.04477611940298507,\n",
       " 'is not': 0.04477611940298507,\n",
       " 'the two': 0.04477611940298507,\n",
       " 'between the': 0.04477611940298507,\n",
       " 'university of': 0.029850746268656716,\n",
       " 'in a': 0.029850746268656716,\n",
       " 'has been': 0.029850746268656716,\n",
       " 'behavioral coding': 0.029850746268656716,\n",
       " 'of the system': 0.029850746268656716,\n",
       " 'speech and': 0.014925373134328358,\n",
       " 'more than': 0.014925373134328358,\n",
       " 'is a': 0.014925373134328358,\n",
       " 'as a': 0.014925373134328358,\n",
       " 'a variety of': 0.014925373134328358,\n",
       " 'in this': 0.014925373134328358,\n",
       " 'based on': 0.014925373134328358,\n",
       " 'the client': 0.014925373134328358,\n",
       " 'to be': 0.014925373134328358,\n",
       " 'using the': 0.014925373134328358,\n",
       " 'automated evaluation': 0.0}"
      ]
     },
     "execution_count": 10,
     "metadata": {},
     "output_type": "execute_result"
    }
   ],
   "source": [
    "# standardize it\n",
    "webtools_cs_phrases = utils.min_max_scale(webtools_cs_phrases)\n",
    "webtools_cs_phrases"
   ]
  },
  {
   "cell_type": "code",
   "execution_count": 11,
   "metadata": {},
   "outputs": [
    {
     "data": {
      "text/plain": [
       "True"
      ]
     },
     "execution_count": 11,
     "metadata": {},
     "output_type": "execute_result"
    }
   ],
   "source": [
    "webtools_cs_labels = [0, 0, 0, 0, 0, 0, 1, 0, 0, 1, 0, 0, 0, 1, 0, 0, 1, 0, 0, 0, 0, 0, 0, 0, 0, 0, 0, 1, 0, 1, 0, 0, 0, 0, 0, 0, 1, 0, 0, 1]\n",
    "len(webtools_cs_labels) == len(webtools_cs_phrases)"
   ]
  },
  {
   "cell_type": "markdown",
   "metadata": {},
   "source": [
    "### MonkeyLearn"
   ]
  },
  {
   "cell_type": "code",
   "execution_count": 12,
   "metadata": {},
   "outputs": [
    {
     "data": {
      "text/plain": [
       "10"
      ]
     },
     "execution_count": 12,
     "metadata": {},
     "output_type": "execute_result"
    }
   ],
   "source": [
    "monkeylearn_cs_phrases = [\"sessions\",\n",
    "\"codes\",\n",
    "\"utterances\",\n",
    "\"behavioral coding\",\n",
    "\"therapist\",\n",
    "\"international speech communication\",\n",
    "\"Automatic Speech Recognition\",\n",
    "\"speech communication association\",\n",
    "\"Proc\",\n",
    "\"psychotherapy\"]\n",
    "len(monkeylearn_cs_phrases)"
   ]
  },
  {
   "cell_type": "code",
   "execution_count": 13,
   "metadata": {},
   "outputs": [
    {
     "data": {
      "text/html": [
       "<div>\n",
       "<style scoped>\n",
       "    .dataframe tbody tr th:only-of-type {\n",
       "        vertical-align: middle;\n",
       "    }\n",
       "\n",
       "    .dataframe tbody tr th {\n",
       "        vertical-align: top;\n",
       "    }\n",
       "\n",
       "    .dataframe thead th {\n",
       "        text-align: right;\n",
       "    }\n",
       "</style>\n",
       "<table border=\"1\" class=\"dataframe\">\n",
       "  <thead>\n",
       "    <tr style=\"text-align: right;\">\n",
       "      <th></th>\n",
       "      <th>Analyzer</th>\n",
       "      <th>Accuracy</th>\n",
       "      <th>Domain</th>\n",
       "    </tr>\n",
       "  </thead>\n",
       "  <tbody>\n",
       "    <tr>\n",
       "      <th>0</th>\n",
       "      <td>AutoLibrary</td>\n",
       "      <td>0.7</td>\n",
       "      <td>Computer Science</td>\n",
       "    </tr>\n",
       "    <tr>\n",
       "      <th>1</th>\n",
       "      <td>MonkeyLearn</td>\n",
       "      <td>0.7</td>\n",
       "      <td>Computer Science</td>\n",
       "    </tr>\n",
       "  </tbody>\n",
       "</table>\n",
       "</div>"
      ],
      "text/plain": [
       "      Analyzer  Accuracy            Domain\n",
       "0  AutoLibrary       0.7  Computer Science\n",
       "1  MonkeyLearn       0.7  Computer Science"
      ]
     },
     "execution_count": 13,
     "metadata": {},
     "output_type": "execute_result"
    }
   ],
   "source": [
    "monkeylearn_cs_labels = [1, 0, 0, 1, 1, 1, 1, 1, 0, 1]\n",
    "top10_acc_df = top10_acc_df.append({\"Accuracy\": np.mean(monkeylearn_cs_labels[:10]), \"Analyzer\": \"MonkeyLearn\", \"Domain\": \"Computer Science\"}, ignore_index = True)\n",
    "top10_acc_df"
   ]
  },
  {
   "cell_type": "code",
   "execution_count": 14,
   "metadata": {},
   "outputs": [
    {
     "data": {
      "image/png": "[encoded data removed]",
      "text/plain": [
       "<Figure size 720x576 with 1 Axes>"
      ]
     },
     "metadata": {
      "needs_background": "light"
     },
     "output_type": "display_data"
    }
   ],
   "source": [
    "# autolibrary vs. webtools\n",
    "utils.graph_precision_recall(autophrase_cs_labels, autophrase_cs_df,\n",
    "    webtools_cs_labels, webtools_cs_phrases, \"Computer Science\")"
   ]
  },
  {
   "cell_type": "code",
   "execution_count": 15,
   "metadata": {},
   "outputs": [
    {
     "data": {
      "text/plain": [
       "<matplotlib.axes._subplots.AxesSubplot at 0x7ff23d05b090>"
      ]
     },
     "execution_count": 15,
     "metadata": {},
     "output_type": "execute_result"
    },
    {
     "data": {
      "image/png": "[encoded data removed]",
      "text/plain": [
       "<Figure size 432x288 with 1 Axes>"
      ]
     },
     "metadata": {
      "needs_background": "light"
     },
     "output_type": "display_data"
    }
   ],
   "source": [
    "# autolibrary vs. jstor\n",
    "import seaborn as sns\n",
    "import numpy as np\n",
    "sns.histplot(data = top40_acc_df, x = \"Domain\", weights = \"Accuracy\", hue = \"Analyzer\", multiple=\"dodge\", shrink=.8)"
   ]
  },
  {
   "cell_type": "code",
   "execution_count": 16,
   "metadata": {},
   "outputs": [
    {
     "data": {
      "text/plain": [
       "<matplotlib.axes._subplots.AxesSubplot at 0x7ff236b67cd0>"
      ]
     },
     "execution_count": 16,
     "metadata": {},
     "output_type": "execute_result"
    },
    {
     "data": {
      "image/png": "[encoded data removed]",
      "text/plain": [
       "<Figure size 432x288 with 1 Axes>"
      ]
     },
     "metadata": {
      "needs_background": "light"
     },
     "output_type": "display_data"
    }
   ],
   "source": [
    "sns.histplot(data = top10_acc_df, x = \"Domain\", weights = \"Accuracy\", hue = \"Analyzer\", multiple=\"dodge\", shrink=.8)"
   ]
  },
  {
   "cell_type": "markdown",
   "metadata": {},
   "source": [
    "## Economics"
   ]
  },
  {
   "cell_type": "markdown",
   "metadata": {},
   "source": [
    "### AutoLibrary"
   ]
  },
  {
   "cell_type": "code",
   "execution_count": 17,
   "metadata": {},
   "outputs": [
    {
     "data": {
      "text/html": [
       "<div>\n",
       "<style scoped>\n",
       "    .dataframe tbody tr th:only-of-type {\n",
       "        vertical-align: middle;\n",
       "    }\n",
       "\n",
       "    .dataframe tbody tr th {\n",
       "        vertical-align: top;\n",
       "    }\n",
       "\n",
       "    .dataframe thead th {\n",
       "        text-align: right;\n",
       "    }\n",
       "</style>\n",
       "<table border=\"1\" class=\"dataframe\">\n",
       "  <thead>\n",
       "    <tr style=\"text-align: right;\">\n",
       "      <th></th>\n",
       "      <th>phrase</th>\n",
       "      <th>score</th>\n",
       "    </tr>\n",
       "  </thead>\n",
       "  <tbody>\n",
       "    <tr>\n",
       "      <th>0</th>\n",
       "      <td>affirmative action</td>\n",
       "      <td>0.854857</td>\n",
       "    </tr>\n",
       "    <tr>\n",
       "      <th>1</th>\n",
       "      <td>school choice</td>\n",
       "      <td>0.765075</td>\n",
       "    </tr>\n",
       "    <tr>\n",
       "      <th>2</th>\n",
       "      <td>incentive compatibility</td>\n",
       "      <td>0.723872</td>\n",
       "    </tr>\n",
       "    <tr>\n",
       "      <th>3</th>\n",
       "      <td>american</td>\n",
       "      <td>0.513310</td>\n",
       "    </tr>\n",
       "    <tr>\n",
       "      <th>4</th>\n",
       "      <td>college</td>\n",
       "      <td>0.500523</td>\n",
       "    </tr>\n",
       "  </tbody>\n",
       "</table>\n",
       "</div>"
      ],
      "text/plain": [
       "                    phrase     score\n",
       "0       affirmative action  0.854857\n",
       "1            school choice  0.765075\n",
       "2  incentive compatibility  0.723872\n",
       "3                 american  0.513310\n",
       "4                  college  0.500523"
      ]
     },
     "execution_count": 17,
     "metadata": {},
     "output_type": "execute_result"
    }
   ],
   "source": [
    "autophrase_econ_df = weighted_df['Economics'].dropna().head(40)\n",
    "autophrase_econ_df.head(5)"
   ]
  },
  {
   "cell_type": "code",
   "execution_count": 18,
   "metadata": {},
   "outputs": [
    {
     "data": {
      "text/html": [
       "<div>\n",
       "<style scoped>\n",
       "    .dataframe tbody tr th:only-of-type {\n",
       "        vertical-align: middle;\n",
       "    }\n",
       "\n",
       "    .dataframe tbody tr th {\n",
       "        vertical-align: top;\n",
       "    }\n",
       "\n",
       "    .dataframe thead th {\n",
       "        text-align: right;\n",
       "    }\n",
       "</style>\n",
       "<table border=\"1\" class=\"dataframe\">\n",
       "  <thead>\n",
       "    <tr style=\"text-align: right;\">\n",
       "      <th></th>\n",
       "      <th>Analyzer</th>\n",
       "      <th>Accuracy</th>\n",
       "      <th>Domain</th>\n",
       "    </tr>\n",
       "  </thead>\n",
       "  <tbody>\n",
       "    <tr>\n",
       "      <th>0</th>\n",
       "      <td>Jstor</td>\n",
       "      <td>0.375</td>\n",
       "      <td>Computer Science</td>\n",
       "    </tr>\n",
       "    <tr>\n",
       "      <th>1</th>\n",
       "      <td>AutoLibrary</td>\n",
       "      <td>0.375</td>\n",
       "      <td>Computer Science</td>\n",
       "    </tr>\n",
       "    <tr>\n",
       "      <th>2</th>\n",
       "      <td>AutoLibrary</td>\n",
       "      <td>0.325</td>\n",
       "      <td>Economics</td>\n",
       "    </tr>\n",
       "  </tbody>\n",
       "</table>\n",
       "</div>"
      ],
      "text/plain": [
       "      Analyzer  Accuracy            Domain\n",
       "0        Jstor     0.375  Computer Science\n",
       "1  AutoLibrary     0.375  Computer Science\n",
       "2  AutoLibrary     0.325         Economics"
      ]
     },
     "execution_count": 18,
     "metadata": {},
     "output_type": "execute_result"
    }
   ],
   "source": [
    "autophrase_econ_labels = [1, 1, 1, 0, 1, 0, 1, 0, 0, 0, \n",
    "                         0, 0, 0, 1, 1, 1, 0, 0, 0, 0, \n",
    "                         0, 0, 0, 0, 0, 1, 0, 1, 0, 1,\n",
    "                         0, 0, 0, 0, 0, 1, 0, 0, 0, 1]\n",
    "top40_acc_df = top40_acc_df.append({\"Accuracy\": np.mean(autophrase_econ_labels), \"Analyzer\": \"AutoLibrary\", \"Domain\": \"Economics\"}, ignore_index = True)\n",
    "top40_acc_df"
   ]
  },
  {
   "cell_type": "code",
   "execution_count": 19,
   "metadata": {},
   "outputs": [
    {
     "data": {
      "text/html": [
       "<div>\n",
       "<style scoped>\n",
       "    .dataframe tbody tr th:only-of-type {\n",
       "        vertical-align: middle;\n",
       "    }\n",
       "\n",
       "    .dataframe tbody tr th {\n",
       "        vertical-align: top;\n",
       "    }\n",
       "\n",
       "    .dataframe thead th {\n",
       "        text-align: right;\n",
       "    }\n",
       "</style>\n",
       "<table border=\"1\" class=\"dataframe\">\n",
       "  <thead>\n",
       "    <tr style=\"text-align: right;\">\n",
       "      <th></th>\n",
       "      <th>Analyzer</th>\n",
       "      <th>Accuracy</th>\n",
       "      <th>Domain</th>\n",
       "    </tr>\n",
       "  </thead>\n",
       "  <tbody>\n",
       "    <tr>\n",
       "      <th>0</th>\n",
       "      <td>AutoLibrary</td>\n",
       "      <td>0.7</td>\n",
       "      <td>Computer Science</td>\n",
       "    </tr>\n",
       "    <tr>\n",
       "      <th>1</th>\n",
       "      <td>MonkeyLearn</td>\n",
       "      <td>0.7</td>\n",
       "      <td>Computer Science</td>\n",
       "    </tr>\n",
       "    <tr>\n",
       "      <th>2</th>\n",
       "      <td>AutoLibrary</td>\n",
       "      <td>0.5</td>\n",
       "      <td>Economics</td>\n",
       "    </tr>\n",
       "  </tbody>\n",
       "</table>\n",
       "</div>"
      ],
      "text/plain": [
       "      Analyzer  Accuracy            Domain\n",
       "0  AutoLibrary       0.7  Computer Science\n",
       "1  MonkeyLearn       0.7  Computer Science\n",
       "2  AutoLibrary       0.5         Economics"
      ]
     },
     "execution_count": 19,
     "metadata": {},
     "output_type": "execute_result"
    }
   ],
   "source": [
    "top10_acc_df = top10_acc_df.append({\"Accuracy\": np.mean(autophrase_econ_labels[:10]), \"Analyzer\": \"AutoLibrary\", \"Domain\": \"Economics\"}, ignore_index = True)\n",
    "top10_acc_df"
   ]
  },
  {
   "cell_type": "markdown",
   "metadata": {},
   "source": [
    "### Jstor"
   ]
  },
  {
   "cell_type": "code",
   "execution_count": 20,
   "metadata": {},
   "outputs": [
    {
     "data": {
      "text/plain": [
       "40"
      ]
     },
     "execution_count": 20,
     "metadata": {},
     "output_type": "execute_result"
    }
   ],
   "source": [
    "# score\n",
    "jstor_econ_phrases = {\"Treaty lands\",\n",
    "\"Axiom of choice\",\n",
    "\"Test theory\",\n",
    "\"Affirmative action\",\n",
    "\"Indian history\",\n",
    "\"Antennas\",\n",
    "\"Caste system\",\n",
    "\"Casting\",\n",
    "\"Fire protection\",\n",
    "\"Cognitive dissonance\",\n",
    "\"Equal protection\",\n",
    "\"Environmental protection\",\n",
    "\"Genetic correlation\",\n",
    "\"Grammemes\",\n",
    "\"Legislative branch\",\n",
    "\"Incantations\",\n",
    "\"Caste determination\",\n",
    "\"Logistic regression\",\n",
    "\"Lost wax casting\",\n",
    "\"Neuroscience\",\n",
    "\"Multilevel models\",\n",
    "\"Medicaid\",\n",
    "\"Personality inventories\",\n",
    "\"Pro choice movements\",\n",
    "\"Rational choice theory\",\n",
    "\"Rule of 72\",\n",
    "\"Simplex method\",\n",
    "\"Transfer pricing\",\n",
    "\"Sundials\",\n",
    "\"Rule of 78\",\n",
    "\"School choice\",\n",
    "\"Ray tracing\",\n",
    "\"Product choice\",\n",
    "\"Plasticizers\",\n",
    "\"Preferential voting\",\n",
    "\"Recursion\",\n",
    "\"Rule of 70\",\n",
    "\"Self control\",\n",
    "\"Syntax\",\n",
    "\"Tribal constitutions\"}\n",
    "len(jstor_econ_phrases)"
   ]
  },
  {
   "cell_type": "code",
   "execution_count": 21,
   "metadata": {},
   "outputs": [
    {
     "data": {
      "text/html": [
       "<div>\n",
       "<style scoped>\n",
       "    .dataframe tbody tr th:only-of-type {\n",
       "        vertical-align: middle;\n",
       "    }\n",
       "\n",
       "    .dataframe tbody tr th {\n",
       "        vertical-align: top;\n",
       "    }\n",
       "\n",
       "    .dataframe thead th {\n",
       "        text-align: right;\n",
       "    }\n",
       "</style>\n",
       "<table border=\"1\" class=\"dataframe\">\n",
       "  <thead>\n",
       "    <tr style=\"text-align: right;\">\n",
       "      <th></th>\n",
       "      <th>Analyzer</th>\n",
       "      <th>Accuracy</th>\n",
       "      <th>Domain</th>\n",
       "    </tr>\n",
       "  </thead>\n",
       "  <tbody>\n",
       "    <tr>\n",
       "      <th>0</th>\n",
       "      <td>Jstor</td>\n",
       "      <td>0.375000</td>\n",
       "      <td>Computer Science</td>\n",
       "    </tr>\n",
       "    <tr>\n",
       "      <th>1</th>\n",
       "      <td>AutoLibrary</td>\n",
       "      <td>0.375000</td>\n",
       "      <td>Computer Science</td>\n",
       "    </tr>\n",
       "    <tr>\n",
       "      <th>2</th>\n",
       "      <td>AutoLibrary</td>\n",
       "      <td>0.325000</td>\n",
       "      <td>Economics</td>\n",
       "    </tr>\n",
       "    <tr>\n",
       "      <th>3</th>\n",
       "      <td>Jstor</td>\n",
       "      <td>0.333333</td>\n",
       "      <td>Economics</td>\n",
       "    </tr>\n",
       "  </tbody>\n",
       "</table>\n",
       "</div>"
      ],
      "text/plain": [
       "      Analyzer  Accuracy            Domain\n",
       "0        Jstor  0.375000  Computer Science\n",
       "1  AutoLibrary  0.375000  Computer Science\n",
       "2  AutoLibrary  0.325000         Economics\n",
       "3        Jstor  0.333333         Economics"
      ]
     },
     "execution_count": 21,
     "metadata": {},
     "output_type": "execute_result"
    }
   ],
   "source": [
    "jstor_econ_labels = [0, 1, 0, 1, 0, 0, 0, 0, 0, 0, 1, 0, 0, 0, 1, 0, 0, 0, 1, 0, 0, 1, 0, 1, 1, 1, 0, 1, 0, 1, 0, 0, 0, 0, 1, 0, 1, 0, 0]\n",
    "top40_acc_df = top40_acc_df.append({\"Accuracy\": np.mean(jstor_econ_labels), \"Analyzer\": \"Jstor\", \"Domain\": \"Economics\"}, ignore_index = True)\n",
    "top40_acc_df"
   ]
  },
  {
   "cell_type": "markdown",
   "metadata": {},
   "source": [
    "### Webtools"
   ]
  },
  {
   "cell_type": "code",
   "execution_count": 22,
   "metadata": {},
   "outputs": [],
   "source": [
    "webtools_econ_phrases = {\"choice rule\": 101,\n",
    "\"of the\": 58,\n",
    "\"hr protections\": 36,\n",
    "\"set of\": 34,\n",
    "\"i i\": 33,\n",
    "\"of individuals\": 28,\n",
    "\"in india\": 26,\n",
    "\"sciakg choice rule\": 26,\n",
    "\"in the\": 25,\n",
    "\"set of individuals\": 24,\n",
    "\"category v\": 23,\n",
    "\"affirmative action\": 22,\n",
    "\"is the\":\t21,\n",
    "\"can be\":\t21,\n",
    "\"justified envy\": 21,\n",
    "\"the sciakg choice rule\": 21,\n",
    "\"the set\": 18,\n",
    "\"for every\": 18,\n",
    "\"in section\": 17,\n",
    "\"an individual\": 17,\n",
    "\"m i\": 17,\n",
    "\"individuals in\": 16,\n",
    "\"v v\": 16,\n",
    "\"merit score\": 16,\n",
    "\"the set of\": 16,\n",
    "\"meritorious horizontal\": 16,\n",
    "\"2smh choice rule\": 16,\n",
    "\"minimum guarantee\": 15,\n",
    "\"number of\": 15,\n",
    "\"sonmez and\": 15,\n",
    "\"and yenmez\": 15,\n",
    "\"meritorious horizontal choice rule\": 15,\n",
    "\"c2s m\": 15,\n",
    "\"et al\": 15,\n",
    "\"a set\": 14,\n",
    "\"the akghas\": 14,\n",
    "\"hrprotected position\": 14,\n",
    "\"the highest\": 14,\n",
    "\"for the\": 14,\n",
    "\"it is\": 14,\n",
    "}"
   ]
  },
  {
   "cell_type": "code",
   "execution_count": 23,
   "metadata": {},
   "outputs": [
    {
     "data": {
      "text/plain": [
       "{'choice rule': 1.0,\n",
       " 'of the': 0.5057471264367817,\n",
       " 'hr protections': 0.25287356321839083,\n",
       " 'set of': 0.22988505747126436,\n",
       " 'i i': 0.21839080459770116,\n",
       " 'of individuals': 0.16091954022988506,\n",
       " 'in india': 0.13793103448275862,\n",
       " 'sciakg choice rule': 0.13793103448275862,\n",
       " 'in the': 0.12643678160919541,\n",
       " 'set of individuals': 0.11494252873563218,\n",
       " 'category v': 0.10344827586206896,\n",
       " 'affirmative action': 0.09195402298850575,\n",
       " 'is the': 0.08045977011494253,\n",
       " 'can be': 0.08045977011494253,\n",
       " 'justified envy': 0.08045977011494253,\n",
       " 'the sciakg choice rule': 0.08045977011494253,\n",
       " 'the set': 0.04597701149425287,\n",
       " 'for every': 0.04597701149425287,\n",
       " 'in section': 0.034482758620689655,\n",
       " 'an individual': 0.034482758620689655,\n",
       " 'm i': 0.034482758620689655,\n",
       " 'individuals in': 0.022988505747126436,\n",
       " 'v v': 0.022988505747126436,\n",
       " 'merit score': 0.022988505747126436,\n",
       " 'the set of': 0.022988505747126436,\n",
       " 'meritorious horizontal': 0.022988505747126436,\n",
       " '2smh choice rule': 0.022988505747126436,\n",
       " 'minimum guarantee': 0.011494252873563218,\n",
       " 'number of': 0.011494252873563218,\n",
       " 'sonmez and': 0.011494252873563218,\n",
       " 'and yenmez': 0.011494252873563218,\n",
       " 'meritorious horizontal choice rule': 0.011494252873563218,\n",
       " 'c2s m': 0.011494252873563218,\n",
       " 'et al': 0.011494252873563218,\n",
       " 'a set': 0.0,\n",
       " 'the akghas': 0.0,\n",
       " 'hrprotected position': 0.0,\n",
       " 'the highest': 0.0,\n",
       " 'for the': 0.0,\n",
       " 'it is': 0.0}"
      ]
     },
     "execution_count": 23,
     "metadata": {},
     "output_type": "execute_result"
    }
   ],
   "source": [
    "# standardize it\n",
    "webtools_econ_phrases = utils.min_max_scale(webtools_econ_phrases)\n",
    "webtools_econ_phrases"
   ]
  },
  {
   "cell_type": "code",
   "execution_count": 24,
   "metadata": {},
   "outputs": [
    {
     "data": {
      "text/plain": [
       "True"
      ]
     },
     "execution_count": 24,
     "metadata": {},
     "output_type": "execute_result"
    }
   ],
   "source": [
    "webtools_econ_labels = [1, 0, 0, 0, 0, 0, 1, 1, 0, 0, 0, 1, 0, 0, 1, 1, 0, 0, 0, 0, 0, 0, 0, 1, 0, 1, 1, 0, 0, 0, 0, 1, 0, 0, 0, 0, 1, 0, 0, 0]\n",
    "len(webtools_econ_labels) == len(webtools_econ_phrases)"
   ]
  },
  {
   "cell_type": "markdown",
   "metadata": {},
   "source": [
    "### MonkenLearn"
   ]
  },
  {
   "cell_type": "code",
   "execution_count": 25,
   "metadata": {},
   "outputs": [],
   "source": [
    "monkeylearn_econ_phrases = [\"affirmative action\",\n",
    "\"horizontal reservations\",\n",
    "\"highest merit score\",\n",
    "\"akg choice rules\",\n",
    "\"2smh choice rules\",\n",
    "\"justified envy\",\n",
    "\"set of individual\",\n",
    "\"vr protection\",\n",
    "\"hr protection\",\n",
    "\"traits\"]"
   ]
  },
  {
   "cell_type": "code",
   "execution_count": 26,
   "metadata": {},
   "outputs": [
    {
     "data": {
      "text/html": [
       "<div>\n",
       "<style scoped>\n",
       "    .dataframe tbody tr th:only-of-type {\n",
       "        vertical-align: middle;\n",
       "    }\n",
       "\n",
       "    .dataframe tbody tr th {\n",
       "        vertical-align: top;\n",
       "    }\n",
       "\n",
       "    .dataframe thead th {\n",
       "        text-align: right;\n",
       "    }\n",
       "</style>\n",
       "<table border=\"1\" class=\"dataframe\">\n",
       "  <thead>\n",
       "    <tr style=\"text-align: right;\">\n",
       "      <th></th>\n",
       "      <th>Analyzer</th>\n",
       "      <th>Accuracy</th>\n",
       "      <th>Domain</th>\n",
       "    </tr>\n",
       "  </thead>\n",
       "  <tbody>\n",
       "    <tr>\n",
       "      <th>0</th>\n",
       "      <td>AutoLibrary</td>\n",
       "      <td>0.7</td>\n",
       "      <td>Computer Science</td>\n",
       "    </tr>\n",
       "    <tr>\n",
       "      <th>1</th>\n",
       "      <td>MonkeyLearn</td>\n",
       "      <td>0.7</td>\n",
       "      <td>Computer Science</td>\n",
       "    </tr>\n",
       "    <tr>\n",
       "      <th>2</th>\n",
       "      <td>AutoLibrary</td>\n",
       "      <td>0.5</td>\n",
       "      <td>Economics</td>\n",
       "    </tr>\n",
       "    <tr>\n",
       "      <th>3</th>\n",
       "      <td>MonkeyLearn</td>\n",
       "      <td>0.5</td>\n",
       "      <td>Economics</td>\n",
       "    </tr>\n",
       "  </tbody>\n",
       "</table>\n",
       "</div>"
      ],
      "text/plain": [
       "      Analyzer  Accuracy            Domain\n",
       "0  AutoLibrary       0.7  Computer Science\n",
       "1  MonkeyLearn       0.7  Computer Science\n",
       "2  AutoLibrary       0.5         Economics\n",
       "3  MonkeyLearn       0.5         Economics"
      ]
     },
     "execution_count": 26,
     "metadata": {},
     "output_type": "execute_result"
    }
   ],
   "source": [
    "monkeylearn_econ_labels = [1, 1, 1, 0, 0, 1, 0, 1, 0, 0]\n",
    "top10_acc_df = top10_acc_df.append({\"Accuracy\": np.mean(monkeylearn_econ_labels), \"Analyzer\": \"MonkeyLearn\", \"Domain\": \"Economics\"}, ignore_index = True)\n",
    "top10_acc_df"
   ]
  },
  {
   "cell_type": "code",
   "execution_count": 27,
   "metadata": {},
   "outputs": [
    {
     "data": {
      "image/png": "[encoded data removed]",
      "text/plain": [
       "<Figure size 720x576 with 1 Axes>"
      ]
     },
     "metadata": {
      "needs_background": "light"
     },
     "output_type": "display_data"
    }
   ],
   "source": [
    "# graph\n",
    "utils.graph_precision_recall(autophrase_econ_labels, autophrase_econ_df,\n",
    "    webtools_econ_labels, webtools_econ_phrases, \"Economics\")"
   ]
  },
  {
   "cell_type": "code",
   "execution_count": 28,
   "metadata": {},
   "outputs": [
    {
     "data": {
      "text/plain": [
       "<matplotlib.axes._subplots.AxesSubplot at 0x7ff236dfc150>"
      ]
     },
     "execution_count": 28,
     "metadata": {},
     "output_type": "execute_result"
    },
    {
     "data": {
      "image/png": "[encoded data removed]",
      "text/plain": [
       "<Figure size 432x288 with 1 Axes>"
      ]
     },
     "metadata": {
      "needs_background": "light"
     },
     "output_type": "display_data"
    }
   ],
   "source": [
    "# autolibrary vs. jstor\n",
    "import seaborn as sns\n",
    "sns.histplot(data = top40_acc_df, x = \"Domain\", weights = \"Accuracy\", hue = \"Analyzer\", multiple=\"dodge\", shrink=.8)"
   ]
  },
  {
   "cell_type": "code",
   "execution_count": 29,
   "metadata": {},
   "outputs": [
    {
     "data": {
      "text/plain": [
       "<matplotlib.axes._subplots.AxesSubplot at 0x7ff236a50710>"
      ]
     },
     "execution_count": 29,
     "metadata": {},
     "output_type": "execute_result"
    },
    {
     "data": {
      "image/png": "[encoded data removed]",
      "text/plain": [
       "<Figure size 432x288 with 1 Axes>"
      ]
     },
     "metadata": {
      "needs_background": "light"
     },
     "output_type": "display_data"
    }
   ],
   "source": [
    "sns.histplot(data = top10_acc_df, x = \"Domain\", weights = \"Accuracy\", hue = \"Analyzer\", multiple=\"dodge\", shrink=.8)"
   ]
  },
  {
   "cell_type": "markdown",
   "metadata": {},
   "source": [
    "## Electrical Engineering and Systems Science"
   ]
  },
  {
   "cell_type": "markdown",
   "metadata": {},
   "source": [
    "### AutoLibrary"
   ]
  },
  {
   "cell_type": "code",
   "execution_count": 30,
   "metadata": {},
   "outputs": [
    {
     "data": {
      "text/html": [
       "<div>\n",
       "<style scoped>\n",
       "    .dataframe tbody tr th:only-of-type {\n",
       "        vertical-align: middle;\n",
       "    }\n",
       "\n",
       "    .dataframe tbody tr th {\n",
       "        vertical-align: top;\n",
       "    }\n",
       "\n",
       "    .dataframe thead th {\n",
       "        text-align: right;\n",
       "    }\n",
       "</style>\n",
       "<table border=\"1\" class=\"dataframe\">\n",
       "  <thead>\n",
       "    <tr style=\"text-align: right;\">\n",
       "      <th></th>\n",
       "      <th>phrase</th>\n",
       "      <th>score</th>\n",
       "    </tr>\n",
       "  </thead>\n",
       "  <tbody>\n",
       "    <tr>\n",
       "      <th>0</th>\n",
       "      <td>magnetic resonance</td>\n",
       "      <td>0.892167</td>\n",
       "    </tr>\n",
       "    <tr>\n",
       "      <th>1</th>\n",
       "      <td>deep learning</td>\n",
       "      <td>0.828240</td>\n",
       "    </tr>\n",
       "    <tr>\n",
       "      <th>2</th>\n",
       "      <td>fine tuning</td>\n",
       "      <td>0.696476</td>\n",
       "    </tr>\n",
       "    <tr>\n",
       "      <th>3</th>\n",
       "      <td>multi coil</td>\n",
       "      <td>0.695884</td>\n",
       "    </tr>\n",
       "    <tr>\n",
       "      <th>4</th>\n",
       "      <td>cine mri</td>\n",
       "      <td>0.692821</td>\n",
       "    </tr>\n",
       "  </tbody>\n",
       "</table>\n",
       "</div>"
      ],
      "text/plain": [
       "               phrase     score\n",
       "0  magnetic resonance  0.892167\n",
       "1       deep learning  0.828240\n",
       "2         fine tuning  0.696476\n",
       "3          multi coil  0.695884\n",
       "4            cine mri  0.692821"
      ]
     },
     "execution_count": 30,
     "metadata": {},
     "output_type": "execute_result"
    }
   ],
   "source": [
    "autophrase_eess_df = weighted_df['Electrical Engineering and Systems Science'].dropna().head(40)\n",
    "autophrase_eess_df.head(5)"
   ]
  },
  {
   "cell_type": "code",
   "execution_count": 31,
   "metadata": {},
   "outputs": [],
   "source": [
    "autophrase_eess_labels = [1, 1, 1, 1, 1, 1, 1, 1, 1, 1,\n",
    "                         1, 1, 1, 1, 1, 1, 0, 1, 1, 1,\n",
    "                         1, 1, 0, 1, 1, 1, 0, 0, 1, 0,\n",
    "                         0, 1, 1, 0, 1, 1, 1, 1, 0, 0]"
   ]
  },
  {
   "cell_type": "code",
   "execution_count": 32,
   "metadata": {},
   "outputs": [
    {
     "data": {
      "text/html": [
       "<div>\n",
       "<style scoped>\n",
       "    .dataframe tbody tr th:only-of-type {\n",
       "        vertical-align: middle;\n",
       "    }\n",
       "\n",
       "    .dataframe tbody tr th {\n",
       "        vertical-align: top;\n",
       "    }\n",
       "\n",
       "    .dataframe thead th {\n",
       "        text-align: right;\n",
       "    }\n",
       "</style>\n",
       "<table border=\"1\" class=\"dataframe\">\n",
       "  <thead>\n",
       "    <tr style=\"text-align: right;\">\n",
       "      <th></th>\n",
       "      <th>Analyzer</th>\n",
       "      <th>Accuracy</th>\n",
       "      <th>Domain</th>\n",
       "    </tr>\n",
       "  </thead>\n",
       "  <tbody>\n",
       "    <tr>\n",
       "      <th>0</th>\n",
       "      <td>Jstor</td>\n",
       "      <td>0.375000</td>\n",
       "      <td>Computer Science</td>\n",
       "    </tr>\n",
       "    <tr>\n",
       "      <th>1</th>\n",
       "      <td>AutoLibrary</td>\n",
       "      <td>0.375000</td>\n",
       "      <td>Computer Science</td>\n",
       "    </tr>\n",
       "    <tr>\n",
       "      <th>2</th>\n",
       "      <td>AutoLibrary</td>\n",
       "      <td>0.325000</td>\n",
       "      <td>Economics</td>\n",
       "    </tr>\n",
       "    <tr>\n",
       "      <th>3</th>\n",
       "      <td>Jstor</td>\n",
       "      <td>0.333333</td>\n",
       "      <td>Economics</td>\n",
       "    </tr>\n",
       "    <tr>\n",
       "      <th>4</th>\n",
       "      <td>AutoLibrary</td>\n",
       "      <td>0.775000</td>\n",
       "      <td>Electrical Engineering and Systems Science</td>\n",
       "    </tr>\n",
       "  </tbody>\n",
       "</table>\n",
       "</div>"
      ],
      "text/plain": [
       "      Analyzer  Accuracy                                      Domain\n",
       "0        Jstor  0.375000                            Computer Science\n",
       "1  AutoLibrary  0.375000                            Computer Science\n",
       "2  AutoLibrary  0.325000                                   Economics\n",
       "3        Jstor  0.333333                                   Economics\n",
       "4  AutoLibrary  0.775000  Electrical Engineering and Systems Science"
      ]
     },
     "execution_count": 32,
     "metadata": {},
     "output_type": "execute_result"
    }
   ],
   "source": [
    "top40_acc_df = top40_acc_df.append({\"Accuracy\": np.mean(autophrase_eess_labels), \"Analyzer\": \"AutoLibrary\", \"Domain\": \"Electrical Engineering and Systems Science\"}, ignore_index = True)\n",
    "top40_acc_df"
   ]
  },
  {
   "cell_type": "code",
   "execution_count": 33,
   "metadata": {},
   "outputs": [
    {
     "data": {
      "text/html": [
       "<div>\n",
       "<style scoped>\n",
       "    .dataframe tbody tr th:only-of-type {\n",
       "        vertical-align: middle;\n",
       "    }\n",
       "\n",
       "    .dataframe tbody tr th {\n",
       "        vertical-align: top;\n",
       "    }\n",
       "\n",
       "    .dataframe thead th {\n",
       "        text-align: right;\n",
       "    }\n",
       "</style>\n",
       "<table border=\"1\" class=\"dataframe\">\n",
       "  <thead>\n",
       "    <tr style=\"text-align: right;\">\n",
       "      <th></th>\n",
       "      <th>Analyzer</th>\n",
       "      <th>Accuracy</th>\n",
       "      <th>Domain</th>\n",
       "    </tr>\n",
       "  </thead>\n",
       "  <tbody>\n",
       "    <tr>\n",
       "      <th>0</th>\n",
       "      <td>AutoLibrary</td>\n",
       "      <td>0.7</td>\n",
       "      <td>Computer Science</td>\n",
       "    </tr>\n",
       "    <tr>\n",
       "      <th>1</th>\n",
       "      <td>MonkeyLearn</td>\n",
       "      <td>0.7</td>\n",
       "      <td>Computer Science</td>\n",
       "    </tr>\n",
       "    <tr>\n",
       "      <th>2</th>\n",
       "      <td>AutoLibrary</td>\n",
       "      <td>0.5</td>\n",
       "      <td>Economics</td>\n",
       "    </tr>\n",
       "    <tr>\n",
       "      <th>3</th>\n",
       "      <td>MonkeyLearn</td>\n",
       "      <td>0.5</td>\n",
       "      <td>Economics</td>\n",
       "    </tr>\n",
       "    <tr>\n",
       "      <th>4</th>\n",
       "      <td>AutoLibrary</td>\n",
       "      <td>1.0</td>\n",
       "      <td>Electrical Engineering and Systems Science</td>\n",
       "    </tr>\n",
       "  </tbody>\n",
       "</table>\n",
       "</div>"
      ],
      "text/plain": [
       "      Analyzer  Accuracy                                      Domain\n",
       "0  AutoLibrary       0.7                            Computer Science\n",
       "1  MonkeyLearn       0.7                            Computer Science\n",
       "2  AutoLibrary       0.5                                   Economics\n",
       "3  MonkeyLearn       0.5                                   Economics\n",
       "4  AutoLibrary       1.0  Electrical Engineering and Systems Science"
      ]
     },
     "execution_count": 33,
     "metadata": {},
     "output_type": "execute_result"
    }
   ],
   "source": [
    "top10_acc_df = top10_acc_df.append({\"Accuracy\": np.mean(autophrase_eess_labels[:10]), \"Analyzer\": \"AutoLibrary\", \"Domain\": \"Electrical Engineering and Systems Science\"}, ignore_index = True)\n",
    "top10_acc_df"
   ]
  },
  {
   "cell_type": "markdown",
   "metadata": {},
   "source": [
    "### Jstor"
   ]
  },
  {
   "cell_type": "code",
   "execution_count": 34,
   "metadata": {},
   "outputs": [],
   "source": [
    "# score\n",
    "jstor_eess_phrases = {\"Imaging\": 0.3,\n",
    "\"Computer networking\": 0.6,\n",
    "\"Machine learning\": 0.85,\n",
    "\"Image reconstruction\": 0.9,\n",
    "\"Nuclear magnetic resonance\": 0.9,\n",
    "\"Toilet training\": 0.2,\n",
    "\"Systems librarians\": 0.15,\n",
    "\"ARPA computer network\": 0.8,\n",
    "\"Anthropic principle\": 0.7,\n",
    "\"Astronomical cosmology\": 0.9,\n",
    "                      \n",
    "\"Artificial neural networks\": 0.75,\n",
    "\"Astronomical spectroscopy\": 0.75,\n",
    "\"Bayesian analysis\": 0.65,\n",
    "\"Community structure\": 0.3,\n",
    "\"Citation indexes\": 0.1,\n",
    "\"Bayesian networks\": 0.45,\n",
    "\"Diagnostic imaging\": 0.4,\n",
    "\"Data models\": 0.5,\n",
    "\"Electrical networks\": 0.87,\n",
    "\"Fractals\": 0.3,\n",
    "                      \n",
    "\"Functional neuroimaging\": 0.8,\n",
    "\"Image files\": 0.2,\n",
    "\"Human biology\": 0.1,\n",
    "\"Hilbert spaces\": 0.9,\n",
    "\"Images\": 0.1, \n",
    "\"Inverse problems\": 0.6,\n",
    "\"Logic circuits\": 0.88,\n",
    "\"Kalman filters\": 0.95,\n",
    "\"Magnetic resonance angiography\": 0.7, \n",
    "\"Magnetic resonance imaging\": 0.7,\n",
    "                      \n",
    "\"Multilevel marketing\": 0.35, \n",
    "\"Microvessels\": 0.7,\n",
    "\"Mathematical objects\": 0.15,\n",
    "\"Network topology\": 0.7,\n",
    "\"Neuroscience\": 0.85,\n",
    "\"Online social networking\": 0.7,\n",
    "\"RLC circuits\": 0.9,\n",
    "\"Radiology\": 0.8,\n",
    "\"Particle image velocimetry\": 0.75,\n",
    "\"Spacetime\": 0.3}"
   ]
  },
  {
   "cell_type": "code",
   "execution_count": 35,
   "metadata": {},
   "outputs": [],
   "source": [
    "jstor_eess_labels = [0, 1, 1, 1, 1, 0, 0, 1, 1, 1, \n",
    "                    1, 1, 1, 0, 0, 1, 0, 1, 0, 0,\n",
    "                    0, 0, 0, 1, 0, 0, 1, 1, 1, 1,\n",
    "                    0, 0, 0, 1, 1, 0, 1, 1, 0, 1]"
   ]
  },
  {
   "cell_type": "code",
   "execution_count": 36,
   "metadata": {},
   "outputs": [
    {
     "data": {
      "text/html": [
       "<div>\n",
       "<style scoped>\n",
       "    .dataframe tbody tr th:only-of-type {\n",
       "        vertical-align: middle;\n",
       "    }\n",
       "\n",
       "    .dataframe tbody tr th {\n",
       "        vertical-align: top;\n",
       "    }\n",
       "\n",
       "    .dataframe thead th {\n",
       "        text-align: right;\n",
       "    }\n",
       "</style>\n",
       "<table border=\"1\" class=\"dataframe\">\n",
       "  <thead>\n",
       "    <tr style=\"text-align: right;\">\n",
       "      <th></th>\n",
       "      <th>Analyzer</th>\n",
       "      <th>Accuracy</th>\n",
       "      <th>Domain</th>\n",
       "    </tr>\n",
       "  </thead>\n",
       "  <tbody>\n",
       "    <tr>\n",
       "      <th>0</th>\n",
       "      <td>Jstor</td>\n",
       "      <td>0.375000</td>\n",
       "      <td>Computer Science</td>\n",
       "    </tr>\n",
       "    <tr>\n",
       "      <th>1</th>\n",
       "      <td>AutoLibrary</td>\n",
       "      <td>0.375000</td>\n",
       "      <td>Computer Science</td>\n",
       "    </tr>\n",
       "    <tr>\n",
       "      <th>2</th>\n",
       "      <td>AutoLibrary</td>\n",
       "      <td>0.325000</td>\n",
       "      <td>Economics</td>\n",
       "    </tr>\n",
       "    <tr>\n",
       "      <th>3</th>\n",
       "      <td>Jstor</td>\n",
       "      <td>0.333333</td>\n",
       "      <td>Economics</td>\n",
       "    </tr>\n",
       "    <tr>\n",
       "      <th>4</th>\n",
       "      <td>AutoLibrary</td>\n",
       "      <td>0.775000</td>\n",
       "      <td>Electrical Engineering and Systems Science</td>\n",
       "    </tr>\n",
       "    <tr>\n",
       "      <th>5</th>\n",
       "      <td>Jstor</td>\n",
       "      <td>0.550000</td>\n",
       "      <td>Electrical Engineering and Systems Science</td>\n",
       "    </tr>\n",
       "  </tbody>\n",
       "</table>\n",
       "</div>"
      ],
      "text/plain": [
       "      Analyzer  Accuracy                                      Domain\n",
       "0        Jstor  0.375000                            Computer Science\n",
       "1  AutoLibrary  0.375000                            Computer Science\n",
       "2  AutoLibrary  0.325000                                   Economics\n",
       "3        Jstor  0.333333                                   Economics\n",
       "4  AutoLibrary  0.775000  Electrical Engineering and Systems Science\n",
       "5        Jstor  0.550000  Electrical Engineering and Systems Science"
      ]
     },
     "execution_count": 36,
     "metadata": {},
     "output_type": "execute_result"
    }
   ],
   "source": [
    "top40_acc_df = top40_acc_df.append({\"Accuracy\": np.mean(jstor_eess_labels), \"Analyzer\": \"Jstor\", \"Domain\": \"Electrical Engineering and Systems Science\"}, ignore_index = True)\n",
    "top40_acc_df"
   ]
  },
  {
   "cell_type": "markdown",
   "metadata": {},
   "source": [
    "### Webtools"
   ]
  },
  {
   "cell_type": "code",
   "execution_count": 37,
   "metadata": {},
   "outputs": [],
   "source": [
    "webtools_eess_phrases = {\"of the\": 127,\n",
    "\"in the\": 56,\n",
    "\"for the\": 30,\n",
    "\"can be\": 29,\n",
    "\"the network\": 28,\n",
    "\"the cnnblock\": 28,\n",
    "\"to the\": 27,\n",
    "\"and the\": 27,\n",
    "\"as well\": 26,\n",
    "\"the proposed\": 25,\n",
    "                         \n",
    "\"and ncg\": 25,\n",
    "\"number of\": 24,\n",
    "\"our proposed\": 23,\n",
    "\"the entire\": 21,\n",
    "\"network architecture\": 20,\n",
    "\"as well as\": 19,\n",
    "\"in terms of\": 18,\n",
    "\"of the cnnblock\": 18,\n",
    "\"to be\": 17,\n",
    "\"note that\": 17,\n",
    "                         \n",
    "\"the entire network\": 16,\n",
    "\"m 1\": 16,\n",
    "\"reconstruction network\": 15,\n",
    "\"ah i\": 15,\n",
    "\"as the\": 14,\n",
    "\"the training\": 14,\n",
    "\"kspace data\": 13,\n",
    "\"on the\": 13,\n",
    "\"by the\": 13,\n",
    "\"radial spokes\": 13,\n",
    "                         \n",
    "\"1 and\": 13,\n",
    "\"that the\": 12,\n",
    "\"the forward\": 12,\n",
    "\"image reconstruction\": 12,\n",
    "\"from the\": 12,\n",
    "\"m 1 and\": 12,\n",
    "\"the measured\": 11,\n",
    "\"of our\": 11,\n",
    "\"proposed method\": 11,\n",
    "\"proposed cnnblock\": 11\n",
    "}"
   ]
  },
  {
   "cell_type": "code",
   "execution_count": 38,
   "metadata": {},
   "outputs": [
    {
     "data": {
      "text/plain": [
       "{'of the': 1.0,\n",
       " 'in the': 0.3879310344827586,\n",
       " 'for the': 0.16379310344827586,\n",
       " 'can be': 0.15517241379310345,\n",
       " 'the network': 0.14655172413793102,\n",
       " 'the cnnblock': 0.14655172413793102,\n",
       " 'to the': 0.13793103448275862,\n",
       " 'and the': 0.13793103448275862,\n",
       " 'as well': 0.12931034482758622,\n",
       " 'the proposed': 0.1206896551724138,\n",
       " 'and ncg': 0.1206896551724138,\n",
       " 'number of': 0.11206896551724138,\n",
       " 'our proposed': 0.10344827586206896,\n",
       " 'the entire': 0.08620689655172414,\n",
       " 'network architecture': 0.07758620689655173,\n",
       " 'as well as': 0.06896551724137931,\n",
       " 'in terms of': 0.0603448275862069,\n",
       " 'of the cnnblock': 0.0603448275862069,\n",
       " 'to be': 0.05172413793103448,\n",
       " 'note that': 0.05172413793103448,\n",
       " 'the entire network': 0.04310344827586207,\n",
       " 'm 1': 0.04310344827586207,\n",
       " 'reconstruction network': 0.034482758620689655,\n",
       " 'ah i': 0.034482758620689655,\n",
       " 'as the': 0.02586206896551724,\n",
       " 'the training': 0.02586206896551724,\n",
       " 'kspace data': 0.017241379310344827,\n",
       " 'on the': 0.017241379310344827,\n",
       " 'by the': 0.017241379310344827,\n",
       " 'radial spokes': 0.017241379310344827,\n",
       " '1 and': 0.017241379310344827,\n",
       " 'that the': 0.008620689655172414,\n",
       " 'the forward': 0.008620689655172414,\n",
       " 'image reconstruction': 0.008620689655172414,\n",
       " 'from the': 0.008620689655172414,\n",
       " 'm 1 and': 0.008620689655172414,\n",
       " 'the measured': 0.0,\n",
       " 'of our': 0.0,\n",
       " 'proposed method': 0.0,\n",
       " 'proposed cnnblock': 0.0}"
      ]
     },
     "execution_count": 38,
     "metadata": {},
     "output_type": "execute_result"
    }
   ],
   "source": [
    "# standardize it\n",
    "webtools_eess_phrases = utils.min_max_scale(webtools_eess_phrases)\n",
    "webtools_eess_phrases"
   ]
  },
  {
   "cell_type": "code",
   "execution_count": 39,
   "metadata": {},
   "outputs": [
    {
     "data": {
      "text/plain": [
       "True"
      ]
     },
     "execution_count": 39,
     "metadata": {},
     "output_type": "execute_result"
    }
   ],
   "source": [
    "webtools_eess_labels = [0, 0, 0, 0, 1, 1, 0, 0, 0, 0,\n",
    "                       1, 0, 0, 0, 1, 0, 0, 1, 0, 0,\n",
    "                       1, 0, 1, 0, 0, 0, 0, 0, 0, 1, \n",
    "                       0, 0, 0, 1, 0, 0, 0, 0, 0, 1]\n",
    "len(webtools_eess_labels) == len(webtools_eess_phrases)"
   ]
  },
  {
   "cell_type": "markdown",
   "metadata": {},
   "source": [
    "### MonkeyLearn"
   ]
  },
  {
   "cell_type": "code",
   "execution_count": 40,
   "metadata": {},
   "outputs": [],
   "source": [
    "monkeylearn_eess_phrases = [\"cine mr image\",\n",
    "\"mr image reconstruction\",\n",
    "\"cnn\",\n",
    "\"proposed methods\",\n",
    "\"test time\",\n",
    "\"block\",\n",
    "\"proposed cnn\",\n",
    "\"number of radial\",\n",
    "\"entire network\",\n",
    "\"radial spoke\"]"
   ]
  },
  {
   "cell_type": "code",
   "execution_count": 41,
   "metadata": {},
   "outputs": [
    {
     "data": {
      "text/html": [
       "<div>\n",
       "<style scoped>\n",
       "    .dataframe tbody tr th:only-of-type {\n",
       "        vertical-align: middle;\n",
       "    }\n",
       "\n",
       "    .dataframe tbody tr th {\n",
       "        vertical-align: top;\n",
       "    }\n",
       "\n",
       "    .dataframe thead th {\n",
       "        text-align: right;\n",
       "    }\n",
       "</style>\n",
       "<table border=\"1\" class=\"dataframe\">\n",
       "  <thead>\n",
       "    <tr style=\"text-align: right;\">\n",
       "      <th></th>\n",
       "      <th>Analyzer</th>\n",
       "      <th>Accuracy</th>\n",
       "      <th>Domain</th>\n",
       "    </tr>\n",
       "  </thead>\n",
       "  <tbody>\n",
       "    <tr>\n",
       "      <th>0</th>\n",
       "      <td>AutoLibrary</td>\n",
       "      <td>0.7</td>\n",
       "      <td>Computer Science</td>\n",
       "    </tr>\n",
       "    <tr>\n",
       "      <th>1</th>\n",
       "      <td>MonkeyLearn</td>\n",
       "      <td>0.7</td>\n",
       "      <td>Computer Science</td>\n",
       "    </tr>\n",
       "    <tr>\n",
       "      <th>2</th>\n",
       "      <td>AutoLibrary</td>\n",
       "      <td>0.5</td>\n",
       "      <td>Economics</td>\n",
       "    </tr>\n",
       "    <tr>\n",
       "      <th>3</th>\n",
       "      <td>MonkeyLearn</td>\n",
       "      <td>0.5</td>\n",
       "      <td>Economics</td>\n",
       "    </tr>\n",
       "    <tr>\n",
       "      <th>4</th>\n",
       "      <td>AutoLibrary</td>\n",
       "      <td>1.0</td>\n",
       "      <td>Electrical Engineering and Systems Science</td>\n",
       "    </tr>\n",
       "    <tr>\n",
       "      <th>5</th>\n",
       "      <td>MonkeyLearn</td>\n",
       "      <td>0.5</td>\n",
       "      <td>Electrical Engineering and Systems Science</td>\n",
       "    </tr>\n",
       "  </tbody>\n",
       "</table>\n",
       "</div>"
      ],
      "text/plain": [
       "      Analyzer  Accuracy                                      Domain\n",
       "0  AutoLibrary       0.7                            Computer Science\n",
       "1  MonkeyLearn       0.7                            Computer Science\n",
       "2  AutoLibrary       0.5                                   Economics\n",
       "3  MonkeyLearn       0.5                                   Economics\n",
       "4  AutoLibrary       1.0  Electrical Engineering and Systems Science\n",
       "5  MonkeyLearn       0.5  Electrical Engineering and Systems Science"
      ]
     },
     "execution_count": 41,
     "metadata": {},
     "output_type": "execute_result"
    }
   ],
   "source": [
    "monkeylearn_eess_labels = [1, 1, 1, 0, 0, 0, 0, 0, 1, 1]\n",
    "top10_acc_df = top10_acc_df.append({\"Accuracy\": np.mean(monkeylearn_eess_labels), \"Analyzer\": \"MonkeyLearn\", \"Domain\": \"Electrical Engineering and Systems Science\"}, ignore_index = True)\n",
    "top10_acc_df"
   ]
  },
  {
   "cell_type": "code",
   "execution_count": 42,
   "metadata": {},
   "outputs": [
    {
     "data": {
      "image/png": "[encoded data removed]",
      "text/plain": [
       "<Figure size 720x576 with 1 Axes>"
      ]
     },
     "metadata": {
      "needs_background": "light"
     },
     "output_type": "display_data"
    }
   ],
   "source": [
    "# graph\n",
    "utils.graph_precision_recall(autophrase_eess_labels, autophrase_eess_df,\n",
    "    webtools_eess_labels, webtools_eess_phrases, \"Electrical Engineering and Systems Science\")"
   ]
  },
  {
   "cell_type": "markdown",
   "metadata": {},
   "source": [
    "## Mathematics"
   ]
  },
  {
   "cell_type": "markdown",
   "metadata": {},
   "source": [
    "### AutoLibrary"
   ]
  },
  {
   "cell_type": "code",
   "execution_count": 43,
   "metadata": {},
   "outputs": [
    {
     "data": {
      "text/html": [
       "<div>\n",
       "<style scoped>\n",
       "    .dataframe tbody tr th:only-of-type {\n",
       "        vertical-align: middle;\n",
       "    }\n",
       "\n",
       "    .dataframe tbody tr th {\n",
       "        vertical-align: top;\n",
       "    }\n",
       "\n",
       "    .dataframe thead th {\n",
       "        text-align: right;\n",
       "    }\n",
       "</style>\n",
       "<table border=\"1\" class=\"dataframe\">\n",
       "  <thead>\n",
       "    <tr style=\"text-align: right;\">\n",
       "      <th></th>\n",
       "      <th>phrase</th>\n",
       "      <th>score</th>\n",
       "    </tr>\n",
       "  </thead>\n",
       "  <tbody>\n",
       "    <tr>\n",
       "      <th>0</th>\n",
       "      <td>state space</td>\n",
       "      <td>0.907407</td>\n",
       "    </tr>\n",
       "    <tr>\n",
       "      <th>1</th>\n",
       "      <td>initial state</td>\n",
       "      <td>0.876937</td>\n",
       "    </tr>\n",
       "    <tr>\n",
       "      <th>2</th>\n",
       "      <td>policy gradient</td>\n",
       "      <td>0.825594</td>\n",
       "    </tr>\n",
       "    <tr>\n",
       "      <th>3</th>\n",
       "      <td>lower bounds</td>\n",
       "      <td>0.820748</td>\n",
       "    </tr>\n",
       "    <tr>\n",
       "      <th>4</th>\n",
       "      <td>upper bounds</td>\n",
       "      <td>0.760767</td>\n",
       "    </tr>\n",
       "  </tbody>\n",
       "</table>\n",
       "</div>"
      ],
      "text/plain": [
       "            phrase     score\n",
       "0      state space  0.907407\n",
       "1    initial state  0.876937\n",
       "2  policy gradient  0.825594\n",
       "3     lower bounds  0.820748\n",
       "4     upper bounds  0.760767"
      ]
     },
     "execution_count": 43,
     "metadata": {},
     "output_type": "execute_result"
    }
   ],
   "source": [
    "autophrase_math_df = weighted_df['Mathematics'].dropna().head(40)\n",
    "autophrase_math_df.head(5)"
   ]
  },
  {
   "cell_type": "code",
   "execution_count": 44,
   "metadata": {},
   "outputs": [
    {
     "data": {
      "text/html": [
       "<div>\n",
       "<style scoped>\n",
       "    .dataframe tbody tr th:only-of-type {\n",
       "        vertical-align: middle;\n",
       "    }\n",
       "\n",
       "    .dataframe tbody tr th {\n",
       "        vertical-align: top;\n",
       "    }\n",
       "\n",
       "    .dataframe thead th {\n",
       "        text-align: right;\n",
       "    }\n",
       "</style>\n",
       "<table border=\"1\" class=\"dataframe\">\n",
       "  <thead>\n",
       "    <tr style=\"text-align: right;\">\n",
       "      <th></th>\n",
       "      <th>Analyzer</th>\n",
       "      <th>Accuracy</th>\n",
       "      <th>Domain</th>\n",
       "    </tr>\n",
       "  </thead>\n",
       "  <tbody>\n",
       "    <tr>\n",
       "      <th>0</th>\n",
       "      <td>Jstor</td>\n",
       "      <td>0.375000</td>\n",
       "      <td>Computer Science</td>\n",
       "    </tr>\n",
       "    <tr>\n",
       "      <th>1</th>\n",
       "      <td>AutoLibrary</td>\n",
       "      <td>0.375000</td>\n",
       "      <td>Computer Science</td>\n",
       "    </tr>\n",
       "    <tr>\n",
       "      <th>2</th>\n",
       "      <td>AutoLibrary</td>\n",
       "      <td>0.325000</td>\n",
       "      <td>Economics</td>\n",
       "    </tr>\n",
       "    <tr>\n",
       "      <th>3</th>\n",
       "      <td>Jstor</td>\n",
       "      <td>0.333333</td>\n",
       "      <td>Economics</td>\n",
       "    </tr>\n",
       "    <tr>\n",
       "      <th>4</th>\n",
       "      <td>AutoLibrary</td>\n",
       "      <td>0.775000</td>\n",
       "      <td>Electrical Engineering and Systems Science</td>\n",
       "    </tr>\n",
       "    <tr>\n",
       "      <th>5</th>\n",
       "      <td>Jstor</td>\n",
       "      <td>0.550000</td>\n",
       "      <td>Electrical Engineering and Systems Science</td>\n",
       "    </tr>\n",
       "    <tr>\n",
       "      <th>6</th>\n",
       "      <td>AutoLibrary</td>\n",
       "      <td>0.600000</td>\n",
       "      <td>Mathematics</td>\n",
       "    </tr>\n",
       "  </tbody>\n",
       "</table>\n",
       "</div>"
      ],
      "text/plain": [
       "      Analyzer  Accuracy                                      Domain\n",
       "0        Jstor  0.375000                            Computer Science\n",
       "1  AutoLibrary  0.375000                            Computer Science\n",
       "2  AutoLibrary  0.325000                                   Economics\n",
       "3        Jstor  0.333333                                   Economics\n",
       "4  AutoLibrary  0.775000  Electrical Engineering and Systems Science\n",
       "5        Jstor  0.550000  Electrical Engineering and Systems Science\n",
       "6  AutoLibrary  0.600000                                 Mathematics"
      ]
     },
     "execution_count": 44,
     "metadata": {},
     "output_type": "execute_result"
    }
   ],
   "source": [
    "autophrase_math_labels = [1, 1, 1, 1, 1, 1, 0, 1, 1, 1,\n",
    "                         1, 0, 0, 0, 0, 1, 1, 1, 0, 1,\n",
    "                         1, 1, 0, 1, 1, 0, 1, 1, 0, 0, \n",
    "                         1, 0, 1, 0, 0, 0, 0, 0, 1, 1]\n",
    "top40_acc_df = top40_acc_df.append({\"Accuracy\": np.mean(autophrase_math_labels), \"Analyzer\": \"AutoLibrary\", \"Domain\": \"Mathematics\"}, ignore_index = True)\n",
    "top40_acc_df"
   ]
  },
  {
   "cell_type": "code",
   "execution_count": 45,
   "metadata": {},
   "outputs": [
    {
     "data": {
      "text/html": [
       "<div>\n",
       "<style scoped>\n",
       "    .dataframe tbody tr th:only-of-type {\n",
       "        vertical-align: middle;\n",
       "    }\n",
       "\n",
       "    .dataframe tbody tr th {\n",
       "        vertical-align: top;\n",
       "    }\n",
       "\n",
       "    .dataframe thead th {\n",
       "        text-align: right;\n",
       "    }\n",
       "</style>\n",
       "<table border=\"1\" class=\"dataframe\">\n",
       "  <thead>\n",
       "    <tr style=\"text-align: right;\">\n",
       "      <th></th>\n",
       "      <th>Analyzer</th>\n",
       "      <th>Accuracy</th>\n",
       "      <th>Domain</th>\n",
       "    </tr>\n",
       "  </thead>\n",
       "  <tbody>\n",
       "    <tr>\n",
       "      <th>0</th>\n",
       "      <td>AutoLibrary</td>\n",
       "      <td>0.7</td>\n",
       "      <td>Computer Science</td>\n",
       "    </tr>\n",
       "    <tr>\n",
       "      <th>1</th>\n",
       "      <td>MonkeyLearn</td>\n",
       "      <td>0.7</td>\n",
       "      <td>Computer Science</td>\n",
       "    </tr>\n",
       "    <tr>\n",
       "      <th>2</th>\n",
       "      <td>AutoLibrary</td>\n",
       "      <td>0.5</td>\n",
       "      <td>Economics</td>\n",
       "    </tr>\n",
       "    <tr>\n",
       "      <th>3</th>\n",
       "      <td>MonkeyLearn</td>\n",
       "      <td>0.5</td>\n",
       "      <td>Economics</td>\n",
       "    </tr>\n",
       "    <tr>\n",
       "      <th>4</th>\n",
       "      <td>AutoLibrary</td>\n",
       "      <td>1.0</td>\n",
       "      <td>Electrical Engineering and Systems Science</td>\n",
       "    </tr>\n",
       "    <tr>\n",
       "      <th>5</th>\n",
       "      <td>MonkeyLearn</td>\n",
       "      <td>0.5</td>\n",
       "      <td>Electrical Engineering and Systems Science</td>\n",
       "    </tr>\n",
       "    <tr>\n",
       "      <th>6</th>\n",
       "      <td>AutoLibrary</td>\n",
       "      <td>0.9</td>\n",
       "      <td>Mathematics</td>\n",
       "    </tr>\n",
       "  </tbody>\n",
       "</table>\n",
       "</div>"
      ],
      "text/plain": [
       "      Analyzer  Accuracy                                      Domain\n",
       "0  AutoLibrary       0.7                            Computer Science\n",
       "1  MonkeyLearn       0.7                            Computer Science\n",
       "2  AutoLibrary       0.5                                   Economics\n",
       "3  MonkeyLearn       0.5                                   Economics\n",
       "4  AutoLibrary       1.0  Electrical Engineering and Systems Science\n",
       "5  MonkeyLearn       0.5  Electrical Engineering and Systems Science\n",
       "6  AutoLibrary       0.9                                 Mathematics"
      ]
     },
     "execution_count": 45,
     "metadata": {},
     "output_type": "execute_result"
    }
   ],
   "source": [
    "top10_acc_df = top10_acc_df.append({\"Accuracy\": np.mean(autophrase_math_labels[:10]), \"Analyzer\": \"AutoLibrary\", \"Domain\": \"Mathematics\"}, ignore_index = True)\n",
    "top10_acc_df"
   ]
  },
  {
   "cell_type": "markdown",
   "metadata": {},
   "source": [
    "### Jstor"
   ]
  },
  {
   "cell_type": "code",
   "execution_count": 46,
   "metadata": {},
   "outputs": [],
   "source": [
    "# score\n",
    "jstor_math_phrases = [\"Policy making\",\n",
    "\"Power functions\",\n",
    "\"Quantitative genetics\",\n",
    "\"Newtons method\",\n",
    "\"Mathematical induction\",\n",
    "\"Work functions\",\n",
    "\"Too big to fail policy\",\n",
    "\"Resuscitation orders\", \n",
    "\"Rational functions\",\n",
    "\"Stochastic processes\",\n",
    "                      \n",
    "\"Public policy\", \n",
    "\"Probability distributions\",\n",
    "\"Piecewise continuous functions\",\n",
    "\"Polynomials\",\n",
    "\"Pareto efficiency\",\n",
    "\"Oxygen consumption\",\n",
    "\"One to one functions\",\n",
    "\"Nonstandard analysis\",\n",
    "\"Mental health policy\",\n",
    "\"Mathematical problems\",\n",
    "                      \n",
    "\"Mathematical continuity\",\n",
    "\"Markov chains\",\n",
    "\"Mathematical completeness\",\n",
    "\"Machine learning\",\n",
    "\"Log buildings\",\n",
    "\"Lattice theory\",\n",
    "\"International environmental policy\",\n",
    "\"International trade policy\",\n",
    "\"Information policy\",\n",
    "\"Homeowners insurance\",\n",
    "                      \n",
    "\"Hilbert spaces\",\n",
    "\"Environmental policy\",\n",
    "\"Formal languages\",\n",
    "\"Function words\",\n",
    "\"Entropy\",\n",
    "\"Crime control\",\n",
    "\"Claims made policies\",\n",
    "\"Area function\",\n",
    "\"Artificial neural networks\",\n",
    "\"Central limit theorem\"]"
   ]
  },
  {
   "cell_type": "code",
   "execution_count": 47,
   "metadata": {},
   "outputs": [
    {
     "data": {
      "text/html": [
       "<div>\n",
       "<style scoped>\n",
       "    .dataframe tbody tr th:only-of-type {\n",
       "        vertical-align: middle;\n",
       "    }\n",
       "\n",
       "    .dataframe tbody tr th {\n",
       "        vertical-align: top;\n",
       "    }\n",
       "\n",
       "    .dataframe thead th {\n",
       "        text-align: right;\n",
       "    }\n",
       "</style>\n",
       "<table border=\"1\" class=\"dataframe\">\n",
       "  <thead>\n",
       "    <tr style=\"text-align: right;\">\n",
       "      <th></th>\n",
       "      <th>Analyzer</th>\n",
       "      <th>Accuracy</th>\n",
       "      <th>Domain</th>\n",
       "    </tr>\n",
       "  </thead>\n",
       "  <tbody>\n",
       "    <tr>\n",
       "      <th>0</th>\n",
       "      <td>Jstor</td>\n",
       "      <td>0.375000</td>\n",
       "      <td>Computer Science</td>\n",
       "    </tr>\n",
       "    <tr>\n",
       "      <th>1</th>\n",
       "      <td>AutoLibrary</td>\n",
       "      <td>0.375000</td>\n",
       "      <td>Computer Science</td>\n",
       "    </tr>\n",
       "    <tr>\n",
       "      <th>2</th>\n",
       "      <td>AutoLibrary</td>\n",
       "      <td>0.325000</td>\n",
       "      <td>Economics</td>\n",
       "    </tr>\n",
       "    <tr>\n",
       "      <th>3</th>\n",
       "      <td>Jstor</td>\n",
       "      <td>0.333333</td>\n",
       "      <td>Economics</td>\n",
       "    </tr>\n",
       "    <tr>\n",
       "      <th>4</th>\n",
       "      <td>AutoLibrary</td>\n",
       "      <td>0.775000</td>\n",
       "      <td>Electrical Engineering and Systems Science</td>\n",
       "    </tr>\n",
       "    <tr>\n",
       "      <th>5</th>\n",
       "      <td>Jstor</td>\n",
       "      <td>0.550000</td>\n",
       "      <td>Electrical Engineering and Systems Science</td>\n",
       "    </tr>\n",
       "    <tr>\n",
       "      <th>6</th>\n",
       "      <td>AutoLibrary</td>\n",
       "      <td>0.600000</td>\n",
       "      <td>Mathematics</td>\n",
       "    </tr>\n",
       "    <tr>\n",
       "      <th>7</th>\n",
       "      <td>Jstor</td>\n",
       "      <td>0.525000</td>\n",
       "      <td>Mathematics</td>\n",
       "    </tr>\n",
       "  </tbody>\n",
       "</table>\n",
       "</div>"
      ],
      "text/plain": [
       "      Analyzer  Accuracy                                      Domain\n",
       "0        Jstor  0.375000                            Computer Science\n",
       "1  AutoLibrary  0.375000                            Computer Science\n",
       "2  AutoLibrary  0.325000                                   Economics\n",
       "3        Jstor  0.333333                                   Economics\n",
       "4  AutoLibrary  0.775000  Electrical Engineering and Systems Science\n",
       "5        Jstor  0.550000  Electrical Engineering and Systems Science\n",
       "6  AutoLibrary  0.600000                                 Mathematics\n",
       "7        Jstor  0.525000                                 Mathematics"
      ]
     },
     "execution_count": 47,
     "metadata": {},
     "output_type": "execute_result"
    }
   ],
   "source": [
    "jstor_math_labels = [0, 1, 1, 0, 1, 1, 0, 0, 1, 1,\n",
    "                    0, 1, 1, 1, 1, 0, 1, 0, 0, 1,\n",
    "                    1, 1, 0, 1, 0, 1, 0, 0, 0, 0,\n",
    "                    1, 0, 0, 0, 1, 0, 0, 1, 1, 1]\n",
    "top40_acc_df = top40_acc_df.append({\"Accuracy\": np.mean(jstor_math_labels), \"Analyzer\": \"Jstor\", \"Domain\": \"Mathematics\"}, ignore_index = True)\n",
    "top40_acc_df"
   ]
  },
  {
   "cell_type": "markdown",
   "metadata": {},
   "source": [
    "### Webtools"
   ]
  },
  {
   "cell_type": "code",
   "execution_count": 48,
   "metadata": {},
   "outputs": [],
   "source": [
    "webtools_math_phrases = {\"s 1\": 70,\n",
    "\"s0 t\": 56,\n",
    "\"1 2\": 52,\n",
    "\"for any\": 51,\n",
    "\"v s\": 48,\n",
    "\"s s0\": 46,\n",
    "\"of the\": 40,\n",
    "\"s s0 t\": 35,\n",
    "\"proof of\": 33,\n",
    "\"1 1\": 31,\n",
    "                         \n",
    "\"for all\": 31,\n",
    "\"s 2\": 30,\n",
    "\"s h\": 29,\n",
    "\"with the\": 26,\n",
    "\"2 s\": 25,\n",
    "\"and any\": 24,\n",
    "\"any t\": 24,\n",
    "\"one has\": 23,\n",
    "\"sk s\": 23,\n",
    "\"any s\": 22,\n",
    "                         \n",
    "\"sk s s0\": 21,\n",
    "\"1 s\": 21,\n",
    "\"p sk\": 21,\n",
    "\"a1 1\": 20,\n",
    "\"and the\": 19,\n",
    "\"the proof\": 19,\n",
    "\"the last\": 19,\n",
    "\"and any t\": 19,\n",
    "\"s1 s\": 19,\n",
    "\"sk s s0 t\": 19,\n",
    "                         \n",
    "\"the following\": 18,\n",
    "\"ta1 s\": 18,\n",
    "\"s 3\": 18,\n",
    "\"we have\": 18,\n",
    "\"for any s\": 18,\n",
    "\"all t\": 18,\n",
    "\"that v\": 18,\n",
    "\"p s0\": 18,\n",
    "\"p sk s\": 18,\n",
    "\"t p\": 18}"
   ]
  },
  {
   "cell_type": "code",
   "execution_count": 49,
   "metadata": {},
   "outputs": [
    {
     "data": {
      "text/plain": [
       "{'s 1': 1.0,\n",
       " 's0 t': 0.7307692307692307,\n",
       " '1 2': 0.6538461538461539,\n",
       " 'for any': 0.6346153846153846,\n",
       " 'v s': 0.5769230769230769,\n",
       " 's s0': 0.5384615384615384,\n",
       " 'of the': 0.4230769230769231,\n",
       " 's s0 t': 0.3269230769230769,\n",
       " 'proof of': 0.28846153846153844,\n",
       " '1 1': 0.25,\n",
       " 'for all': 0.25,\n",
       " 's 2': 0.23076923076923078,\n",
       " 's h': 0.21153846153846154,\n",
       " 'with the': 0.15384615384615385,\n",
       " '2 s': 0.1346153846153846,\n",
       " 'and any': 0.11538461538461539,\n",
       " 'any t': 0.11538461538461539,\n",
       " 'one has': 0.09615384615384616,\n",
       " 'sk s': 0.09615384615384616,\n",
       " 'any s': 0.07692307692307693,\n",
       " 'sk s s0': 0.057692307692307696,\n",
       " '1 s': 0.057692307692307696,\n",
       " 'p sk': 0.057692307692307696,\n",
       " 'a1 1': 0.038461538461538464,\n",
       " 'and the': 0.019230769230769232,\n",
       " 'the proof': 0.019230769230769232,\n",
       " 'the last': 0.019230769230769232,\n",
       " 'and any t': 0.019230769230769232,\n",
       " 's1 s': 0.019230769230769232,\n",
       " 'sk s s0 t': 0.019230769230769232,\n",
       " 'the following': 0.0,\n",
       " 'ta1 s': 0.0,\n",
       " 's 3': 0.0,\n",
       " 'we have': 0.0,\n",
       " 'for any s': 0.0,\n",
       " 'all t': 0.0,\n",
       " 'that v': 0.0,\n",
       " 'p s0': 0.0,\n",
       " 'p sk s': 0.0,\n",
       " 't p': 0.0}"
      ]
     },
     "execution_count": 49,
     "metadata": {},
     "output_type": "execute_result"
    }
   ],
   "source": [
    "# standardize it\n",
    "webtools_math_phrases = utils.min_max_scale(webtools_math_phrases)\n",
    "webtools_math_phrases"
   ]
  },
  {
   "cell_type": "code",
   "execution_count": 50,
   "metadata": {},
   "outputs": [
    {
     "data": {
      "text/plain": [
       "True"
      ]
     },
     "execution_count": 50,
     "metadata": {},
     "output_type": "execute_result"
    }
   ],
   "source": [
    "webtools_math_labels = [0, 0, 0, 1, 0, 0, 0, 0, 1, 0,\n",
    "                       1, 0, 0, 1, 0, 1, 0, 0, 0, 0,\n",
    "                       0, 0, 0, 0, 0, 1, 0, 1, 0, 0,\n",
    "                       1, 0, 0, 0, 1, 0, 1, 0, 0, 0]\n",
    "len(webtools_math_labels) == len(webtools_math_phrases)"
   ]
  },
  {
   "cell_type": "markdown",
   "metadata": {},
   "source": [
    "### MonkeyLearn"
   ]
  },
  {
   "cell_type": "code",
   "execution_count": 51,
   "metadata": {},
   "outputs": [],
   "source": [
    "monkeylearn_math_phrases = [\"softmax pg methods\",\n",
    "\"proof of lemma\",\n",
    "\"lemma\",\n",
    "\"a0\",\n",
    "\"natural policy gradient\",\n",
    "\"a1\",\n",
    "\"a1 a2 a1\",\n",
    "\"a2 a1 a2\",\n",
    "\"a1 a2 a0\",\n",
    "\"last inequality\"]"
   ]
  },
  {
   "cell_type": "code",
   "execution_count": 52,
   "metadata": {},
   "outputs": [
    {
     "data": {
      "text/html": [
       "<div>\n",
       "<style scoped>\n",
       "    .dataframe tbody tr th:only-of-type {\n",
       "        vertical-align: middle;\n",
       "    }\n",
       "\n",
       "    .dataframe tbody tr th {\n",
       "        vertical-align: top;\n",
       "    }\n",
       "\n",
       "    .dataframe thead th {\n",
       "        text-align: right;\n",
       "    }\n",
       "</style>\n",
       "<table border=\"1\" class=\"dataframe\">\n",
       "  <thead>\n",
       "    <tr style=\"text-align: right;\">\n",
       "      <th></th>\n",
       "      <th>Analyzer</th>\n",
       "      <th>Accuracy</th>\n",
       "      <th>Domain</th>\n",
       "    </tr>\n",
       "  </thead>\n",
       "  <tbody>\n",
       "    <tr>\n",
       "      <th>0</th>\n",
       "      <td>AutoLibrary</td>\n",
       "      <td>0.7</td>\n",
       "      <td>Computer Science</td>\n",
       "    </tr>\n",
       "    <tr>\n",
       "      <th>1</th>\n",
       "      <td>MonkeyLearn</td>\n",
       "      <td>0.7</td>\n",
       "      <td>Computer Science</td>\n",
       "    </tr>\n",
       "    <tr>\n",
       "      <th>2</th>\n",
       "      <td>AutoLibrary</td>\n",
       "      <td>0.5</td>\n",
       "      <td>Economics</td>\n",
       "    </tr>\n",
       "    <tr>\n",
       "      <th>3</th>\n",
       "      <td>MonkeyLearn</td>\n",
       "      <td>0.5</td>\n",
       "      <td>Economics</td>\n",
       "    </tr>\n",
       "    <tr>\n",
       "      <th>4</th>\n",
       "      <td>AutoLibrary</td>\n",
       "      <td>1.0</td>\n",
       "      <td>Electrical Engineering and Systems Science</td>\n",
       "    </tr>\n",
       "    <tr>\n",
       "      <th>5</th>\n",
       "      <td>MonkeyLearn</td>\n",
       "      <td>0.5</td>\n",
       "      <td>Electrical Engineering and Systems Science</td>\n",
       "    </tr>\n",
       "    <tr>\n",
       "      <th>6</th>\n",
       "      <td>AutoLibrary</td>\n",
       "      <td>0.9</td>\n",
       "      <td>Mathematics</td>\n",
       "    </tr>\n",
       "    <tr>\n",
       "      <th>7</th>\n",
       "      <td>MonkeyLearn</td>\n",
       "      <td>0.3</td>\n",
       "      <td>Mathematics</td>\n",
       "    </tr>\n",
       "  </tbody>\n",
       "</table>\n",
       "</div>"
      ],
      "text/plain": [
       "      Analyzer  Accuracy                                      Domain\n",
       "0  AutoLibrary       0.7                            Computer Science\n",
       "1  MonkeyLearn       0.7                            Computer Science\n",
       "2  AutoLibrary       0.5                                   Economics\n",
       "3  MonkeyLearn       0.5                                   Economics\n",
       "4  AutoLibrary       1.0  Electrical Engineering and Systems Science\n",
       "5  MonkeyLearn       0.5  Electrical Engineering and Systems Science\n",
       "6  AutoLibrary       0.9                                 Mathematics\n",
       "7  MonkeyLearn       0.3                                 Mathematics"
      ]
     },
     "execution_count": 52,
     "metadata": {},
     "output_type": "execute_result"
    }
   ],
   "source": [
    "monkeylearn_math_labels = [1, 0, 1, 0, 1, 0, 0, 0, 0, 0]\n",
    "top10_acc_df = top10_acc_df.append({\"Accuracy\": np.mean(monkeylearn_math_labels), \"Analyzer\": \"MonkeyLearn\", \"Domain\": \"Mathematics\"}, ignore_index = True)\n",
    "top10_acc_df"
   ]
  },
  {
   "cell_type": "code",
   "execution_count": 53,
   "metadata": {},
   "outputs": [
    {
     "data": {
      "image/png": "[encoded data removed]",
      "text/plain": [
       "<Figure size 720x576 with 1 Axes>"
      ]
     },
     "metadata": {
      "needs_background": "light"
     },
     "output_type": "display_data"
    }
   ],
   "source": [
    "# graph\n",
    "utils.graph_precision_recall(autophrase_math_labels, autophrase_math_df,\n",
    "    webtools_math_labels, webtools_math_phrases, \"Mathematics\")"
   ]
  },
  {
   "cell_type": "code",
   "execution_count": 74,
   "metadata": {},
   "outputs": [
    {
     "data": {
      "image/png": "[encoded data removed]",
      "text/plain": [
       "<Figure size 1152x864 with 1 Axes>"
      ]
     },
     "metadata": {
      "needs_background": "light"
     },
     "output_type": "display_data"
    }
   ],
   "source": [
    "# autolibrary vs. jstor\n",
    "import seaborn as sns\n",
    "import matplotlib.pyplot as plt\n",
    "fig = plt.figure(figsize = (16, 12))\n",
    "ax = sns.histplot(data = top40_acc_df, x = \"Domain\", weights = \"Accuracy\", hue = \"Analyzer\", \n",
    "                  hue_order = [\"AUtoLibrary\", \"Jstor\"], multiple=\"dodge\", shrink=.8)\n",
    "ax.set(xlabel='Domains', ylabel='Accuracy')\n",
    "plt.show()"
   ]
  },
  {
   "cell_type": "code",
   "execution_count": 70,
   "metadata": {},
   "outputs": [
    {
     "data": {
      "image/png": "[encoded data removed]",
      "text/plain": [
       "<Figure size 1152x864 with 1 Axes>"
      ]
     },
     "metadata": {
      "needs_background": "light"
     },
     "output_type": "display_data"
    }
   ],
   "source": [
    "# autolibrary vs. MonkeyLearn\n",
    "fig = plt.figure(figsize = (16, 12))\n",
    "ax = sns.histplot(data = top10_acc_df, x = \"Domain\", weights = \"Accuracy\", hue = \"Analyzer\", multiple=\"dodge\", shrink=.8)\n",
    "ax.set(xlabel='Domains', ylabel='Accuracy')\n",
    "plt.show()"
   ]
  },
  {
   "cell_type": "markdown",
   "metadata": {},
   "source": [
    "## Physics"
   ]
  },
  {
   "cell_type": "markdown",
   "metadata": {},
   "source": [
    "### AutoLibrary"
   ]
  },
  {
   "cell_type": "code",
   "execution_count": 71,
   "metadata": {},
   "outputs": [
    {
     "data": {
      "text/html": [
       "<div>\n",
       "<style scoped>\n",
       "    .dataframe tbody tr th:only-of-type {\n",
       "        vertical-align: middle;\n",
       "    }\n",
       "\n",
       "    .dataframe tbody tr th {\n",
       "        vertical-align: top;\n",
       "    }\n",
       "\n",
       "    .dataframe thead th {\n",
       "        text-align: right;\n",
       "    }\n",
       "</style>\n",
       "<table border=\"1\" class=\"dataframe\">\n",
       "  <thead>\n",
       "    <tr style=\"text-align: right;\">\n",
       "      <th></th>\n",
       "      <th>phrase</th>\n",
       "      <th>score</th>\n",
       "    </tr>\n",
       "  </thead>\n",
       "  <tbody>\n",
       "    <tr>\n",
       "      <th>0</th>\n",
       "      <td>gravitational field</td>\n",
       "      <td>0.892916</td>\n",
       "    </tr>\n",
       "    <tr>\n",
       "      <th>1</th>\n",
       "      <td>general relativity</td>\n",
       "      <td>0.883619</td>\n",
       "    </tr>\n",
       "    <tr>\n",
       "      <th>2</th>\n",
       "      <td>quantum mechanics</td>\n",
       "      <td>0.875915</td>\n",
       "    </tr>\n",
       "    <tr>\n",
       "      <th>3</th>\n",
       "      <td>wave function</td>\n",
       "      <td>0.861265</td>\n",
       "    </tr>\n",
       "    <tr>\n",
       "      <th>4</th>\n",
       "      <td>quantum theory</td>\n",
       "      <td>0.849949</td>\n",
       "    </tr>\n",
       "  </tbody>\n",
       "</table>\n",
       "</div>"
      ],
      "text/plain": [
       "                phrase     score\n",
       "0  gravitational field  0.892916\n",
       "1   general relativity  0.883619\n",
       "2    quantum mechanics  0.875915\n",
       "3        wave function  0.861265\n",
       "4       quantum theory  0.849949"
      ]
     },
     "execution_count": 71,
     "metadata": {},
     "output_type": "execute_result"
    }
   ],
   "source": [
    "autophrase_physics_df = weighted_df['Physics'].dropna().head(40)\n",
    "autophrase_physics_df.head()"
   ]
  },
  {
   "cell_type": "code",
   "execution_count": 72,
   "metadata": {},
   "outputs": [
    {
     "data": {
      "text/html": [
       "<div>\n",
       "<style scoped>\n",
       "    .dataframe tbody tr th:only-of-type {\n",
       "        vertical-align: middle;\n",
       "    }\n",
       "\n",
       "    .dataframe tbody tr th {\n",
       "        vertical-align: top;\n",
       "    }\n",
       "\n",
       "    .dataframe thead th {\n",
       "        text-align: right;\n",
       "    }\n",
       "</style>\n",
       "<table border=\"1\" class=\"dataframe\">\n",
       "  <thead>\n",
       "    <tr style=\"text-align: right;\">\n",
       "      <th></th>\n",
       "      <th>Analyzer</th>\n",
       "      <th>Accuracy</th>\n",
       "      <th>Domain</th>\n",
       "    </tr>\n",
       "  </thead>\n",
       "  <tbody>\n",
       "    <tr>\n",
       "      <th>0</th>\n",
       "      <td>Jstor</td>\n",
       "      <td>0.375000</td>\n",
       "      <td>Computer Science</td>\n",
       "    </tr>\n",
       "    <tr>\n",
       "      <th>1</th>\n",
       "      <td>AutoLibrary</td>\n",
       "      <td>0.375000</td>\n",
       "      <td>Computer Science</td>\n",
       "    </tr>\n",
       "    <tr>\n",
       "      <th>2</th>\n",
       "      <td>AutoLibrary</td>\n",
       "      <td>0.325000</td>\n",
       "      <td>Economics</td>\n",
       "    </tr>\n",
       "    <tr>\n",
       "      <th>3</th>\n",
       "      <td>Jstor</td>\n",
       "      <td>0.333333</td>\n",
       "      <td>Economics</td>\n",
       "    </tr>\n",
       "    <tr>\n",
       "      <th>4</th>\n",
       "      <td>AutoLibrary</td>\n",
       "      <td>0.775000</td>\n",
       "      <td>Electrical Engineering and Systems Science</td>\n",
       "    </tr>\n",
       "    <tr>\n",
       "      <th>5</th>\n",
       "      <td>Jstor</td>\n",
       "      <td>0.550000</td>\n",
       "      <td>Electrical Engineering and Systems Science</td>\n",
       "    </tr>\n",
       "    <tr>\n",
       "      <th>6</th>\n",
       "      <td>AutoLibrary</td>\n",
       "      <td>0.600000</td>\n",
       "      <td>Mathematics</td>\n",
       "    </tr>\n",
       "    <tr>\n",
       "      <th>7</th>\n",
       "      <td>Jstor</td>\n",
       "      <td>0.525000</td>\n",
       "      <td>Mathematics</td>\n",
       "    </tr>\n",
       "    <tr>\n",
       "      <th>8</th>\n",
       "      <td>AutoLibrary</td>\n",
       "      <td>0.800000</td>\n",
       "      <td>Physics</td>\n",
       "    </tr>\n",
       "  </tbody>\n",
       "</table>\n",
       "</div>"
      ],
      "text/plain": [
       "      Analyzer  Accuracy                                      Domain\n",
       "0        Jstor  0.375000                            Computer Science\n",
       "1  AutoLibrary  0.375000                            Computer Science\n",
       "2  AutoLibrary  0.325000                                   Economics\n",
       "3        Jstor  0.333333                                   Economics\n",
       "4  AutoLibrary  0.775000  Electrical Engineering and Systems Science\n",
       "5        Jstor  0.550000  Electrical Engineering and Systems Science\n",
       "6  AutoLibrary  0.600000                                 Mathematics\n",
       "7        Jstor  0.525000                                 Mathematics\n",
       "8  AutoLibrary  0.800000                                     Physics"
      ]
     },
     "execution_count": 72,
     "metadata": {},
     "output_type": "execute_result"
    }
   ],
   "source": [
    "autophrase_physics_labels = [1, 1, 1, 1, 1, 1, 1, 1, 1, 1,\n",
    "                            0, 1, 1, 1, 0, 1, 1, 1, 1, 1, \n",
    "                            1, 1, 1, 1, 1, 0, 0, 1, 0, 1, \n",
    "                            1, 1, 1, 0, 1, 1, 0, 1, 0, 1]\n",
    "top40_acc_df = top40_acc_df.append({\"Accuracy\": np.mean(autophrase_physics_labels), \"Analyzer\": \"AutoLibrary\", \"Domain\": \"Physics\"}, ignore_index = True)\n",
    "top40_acc_df"
   ]
  },
  {
   "cell_type": "code",
   "execution_count": 73,
   "metadata": {},
   "outputs": [
    {
     "data": {
      "text/html": [
       "<div>\n",
       "<style scoped>\n",
       "    .dataframe tbody tr th:only-of-type {\n",
       "        vertical-align: middle;\n",
       "    }\n",
       "\n",
       "    .dataframe tbody tr th {\n",
       "        vertical-align: top;\n",
       "    }\n",
       "\n",
       "    .dataframe thead th {\n",
       "        text-align: right;\n",
       "    }\n",
       "</style>\n",
       "<table border=\"1\" class=\"dataframe\">\n",
       "  <thead>\n",
       "    <tr style=\"text-align: right;\">\n",
       "      <th></th>\n",
       "      <th>Analyzer</th>\n",
       "      <th>Accuracy</th>\n",
       "      <th>Domain</th>\n",
       "    </tr>\n",
       "  </thead>\n",
       "  <tbody>\n",
       "    <tr>\n",
       "      <th>0</th>\n",
       "      <td>AutoLibrary</td>\n",
       "      <td>0.7</td>\n",
       "      <td>Computer Science</td>\n",
       "    </tr>\n",
       "    <tr>\n",
       "      <th>1</th>\n",
       "      <td>MonkeyLearn</td>\n",
       "      <td>0.7</td>\n",
       "      <td>Computer Science</td>\n",
       "    </tr>\n",
       "    <tr>\n",
       "      <th>2</th>\n",
       "      <td>AutoLibrary</td>\n",
       "      <td>0.5</td>\n",
       "      <td>Economics</td>\n",
       "    </tr>\n",
       "    <tr>\n",
       "      <th>3</th>\n",
       "      <td>MonkeyLearn</td>\n",
       "      <td>0.5</td>\n",
       "      <td>Economics</td>\n",
       "    </tr>\n",
       "    <tr>\n",
       "      <th>4</th>\n",
       "      <td>AutoLibrary</td>\n",
       "      <td>1.0</td>\n",
       "      <td>Electrical Engineering and Systems Science</td>\n",
       "    </tr>\n",
       "    <tr>\n",
       "      <th>5</th>\n",
       "      <td>MonkeyLearn</td>\n",
       "      <td>0.5</td>\n",
       "      <td>Electrical Engineering and Systems Science</td>\n",
       "    </tr>\n",
       "    <tr>\n",
       "      <th>6</th>\n",
       "      <td>AutoLibrary</td>\n",
       "      <td>0.9</td>\n",
       "      <td>Mathematics</td>\n",
       "    </tr>\n",
       "    <tr>\n",
       "      <th>7</th>\n",
       "      <td>MonkeyLearn</td>\n",
       "      <td>0.3</td>\n",
       "      <td>Mathematics</td>\n",
       "    </tr>\n",
       "    <tr>\n",
       "      <th>8</th>\n",
       "      <td>AutoLibrary</td>\n",
       "      <td>1.0</td>\n",
       "      <td>Physics</td>\n",
       "    </tr>\n",
       "  </tbody>\n",
       "</table>\n",
       "</div>"
      ],
      "text/plain": [
       "      Analyzer  Accuracy                                      Domain\n",
       "0  AutoLibrary       0.7                            Computer Science\n",
       "1  MonkeyLearn       0.7                            Computer Science\n",
       "2  AutoLibrary       0.5                                   Economics\n",
       "3  MonkeyLearn       0.5                                   Economics\n",
       "4  AutoLibrary       1.0  Electrical Engineering and Systems Science\n",
       "5  MonkeyLearn       0.5  Electrical Engineering and Systems Science\n",
       "6  AutoLibrary       0.9                                 Mathematics\n",
       "7  MonkeyLearn       0.3                                 Mathematics\n",
       "8  AutoLibrary       1.0                                     Physics"
      ]
     },
     "execution_count": 73,
     "metadata": {},
     "output_type": "execute_result"
    }
   ],
   "source": [
    "top10_acc_df = top10_acc_df.append({\"Accuracy\": np.mean(autophrase_physics_labels[:10]), \"Analyzer\": \"AutoLibrary\", \"Domain\": \"Physics\"}, ignore_index = True)\n",
    "top10_acc_df"
   ]
  },
  {
   "cell_type": "markdown",
   "metadata": {},
   "source": [
    "### Jstor"
   ]
  },
  {
   "cell_type": "code",
   "execution_count": null,
   "metadata": {},
   "outputs": [],
   "source": [
    "# score\n",
    "jstor_physics_phrases = {}"
   ]
  },
  {
   "cell_type": "code",
   "execution_count": null,
   "metadata": {},
   "outputs": [],
   "source": [
    "jstor_physics_labels = []"
   ]
  },
  {
   "cell_type": "markdown",
   "metadata": {},
   "source": [
    "### Webtools"
   ]
  },
  {
   "cell_type": "code",
   "execution_count": null,
   "metadata": {},
   "outputs": [],
   "source": [
    "webtools_physics_phrases = {}"
   ]
  },
  {
   "cell_type": "code",
   "execution_count": null,
   "metadata": {},
   "outputs": [],
   "source": [
    "# standardize it\n",
    "webtools_physics_phrases = utils.min_max_scale(webtools_physics_phrases)\n",
    "webtools_physics_phrases"
   ]
  },
  {
   "cell_type": "code",
   "execution_count": null,
   "metadata": {},
   "outputs": [],
   "source": [
    "webtools_physics_labels = []\n",
    "len(webtools_physics_labels) == len(webtools_physics_phrases)"
   ]
  },
  {
   "cell_type": "markdown",
   "metadata": {},
   "source": [
    "### MonkeyLearn"
   ]
  },
  {
   "cell_type": "code",
   "execution_count": null,
   "metadata": {},
   "outputs": [],
   "source": [
    "monkeylearn_physics_phrases = {}"
   ]
  },
  {
   "cell_type": "code",
   "execution_count": null,
   "metadata": {},
   "outputs": [],
   "source": [
    "monkeylearn_physics_labels = []"
   ]
  },
  {
   "cell_type": "code",
   "execution_count": null,
   "metadata": {},
   "outputs": [],
   "source": [
    "# graph\n",
    "utils.graph_precision_recall(autophrase_physics_labels, autophrase_physics_df,\n",
    "    jstor_physics_labels, jstor_physics_phrases, \n",
    "    webtools_physics_labels, webtools_physics_phrases,\n",
    "    monkeylearn_physics_labels, monkeylearn_physics_phrases, \"Physics\")"
   ]
  },
  {
   "cell_type": "markdown",
   "metadata": {},
   "source": [
    "## Quantitative Biology"
   ]
  },
  {
   "cell_type": "markdown",
   "metadata": {},
   "source": [
    "### AutoLibrary"
   ]
  },
  {
   "cell_type": "code",
   "execution_count": null,
   "metadata": {},
   "outputs": [],
   "source": [
    "autophrase_qbio_df = weighted_df['Quantitative Biology'].dropna().head(100)\n",
    "autophrase_qbio_df"
   ]
  },
  {
   "cell_type": "code",
   "execution_count": null,
   "metadata": {},
   "outputs": [],
   "source": [
    "autophrase_qbio_df.iloc[90:100]"
   ]
  },
  {
   "cell_type": "code",
   "execution_count": null,
   "metadata": {},
   "outputs": [],
   "source": [
    "autophrase_qbio_labels = [1, 1, 1, 1, 0, 1, 0, 0, 1, 0,\n",
    "                         1, 0, 1, 1, 1, 0, 0, 1, 0, 0,\n",
    "                         1, 0, 0, 1, 1, 0, 1, 0, 0, 0,\n",
    "                         0, 0, 1, 0, 1, 0, 0, 1, 1, 0,\n",
    "                         0, 1, 1, 0, 0, 0, 0, 0, 0, 0,\n",
    "                         0, 1, 1, 0, 0, 0, 1, 0, 1, 1, \n",
    "                         0, 0, 0, 1, 0, 1, 1, 0, 0, 0,\n",
    "                         1, 1, 0, 0, 0, 0, 0, 0, 1, 0,\n",
    "                         0, 0, 1, 0, 0, 0, 0, 1, 0, 0,\n",
    "                         1, 0, 0, 0, 0, 0, 0, 0, 0, 0]"
   ]
  },
  {
   "cell_type": "markdown",
   "metadata": {},
   "source": [
    "### Jstor"
   ]
  },
  {
   "cell_type": "code",
   "execution_count": null,
   "metadata": {},
   "outputs": [],
   "source": [
    "# score\n",
    "jstor_qbio_phrases = {}"
   ]
  },
  {
   "cell_type": "code",
   "execution_count": null,
   "metadata": {},
   "outputs": [],
   "source": [
    "jstor_qbio_labels = []"
   ]
  },
  {
   "cell_type": "markdown",
   "metadata": {},
   "source": [
    "### Webtools"
   ]
  },
  {
   "cell_type": "code",
   "execution_count": null,
   "metadata": {},
   "outputs": [],
   "source": [
    "webtools_qbio_phrases = {}"
   ]
  },
  {
   "cell_type": "code",
   "execution_count": null,
   "metadata": {},
   "outputs": [],
   "source": [
    "# standardize it\n",
    "webtools_qbio_phrases = utils.min_max_scale(webtools_qbio_phrases)\n",
    "webtools_qbio_phrases"
   ]
  },
  {
   "cell_type": "code",
   "execution_count": null,
   "metadata": {},
   "outputs": [],
   "source": [
    "webtools_qbio_labels = []\n",
    "len(webtools_qbio_labels) == len(webtools_qbio_phrases)"
   ]
  },
  {
   "cell_type": "markdown",
   "metadata": {},
   "source": [
    "### MonkeyLearn"
   ]
  },
  {
   "cell_type": "code",
   "execution_count": null,
   "metadata": {},
   "outputs": [],
   "source": [
    "monkeylearn_qbio_phrases = {}"
   ]
  },
  {
   "cell_type": "code",
   "execution_count": null,
   "metadata": {},
   "outputs": [],
   "source": [
    "monkeylearn_qbio_labels = []"
   ]
  },
  {
   "cell_type": "code",
   "execution_count": null,
   "metadata": {},
   "outputs": [],
   "source": [
    "# graph\n",
    "utils.graph_precision_recall(autophrase_qbio_labels, autophrase_qbio_df,\n",
    "    jstor_qbio_labels, jstor_qbio_phrases, \n",
    "    webtools_qbio_labels, webtools_qbio_phrases,\n",
    "    monkeylearn_qbio_labels, monkeylearn_qbio_phrases, \"Quantitative Biology\")"
   ]
  },
  {
   "cell_type": "markdown",
   "metadata": {},
   "source": [
    "## Quantitative Finance"
   ]
  },
  {
   "cell_type": "code",
   "execution_count": null,
   "metadata": {},
   "outputs": [],
   "source": [
    "autophrase_qfin_df = weighted_df['Quantitative Finance'].dropna().head(100)\n",
    "autophrase_qfin_df"
   ]
  },
  {
   "cell_type": "code",
   "execution_count": null,
   "metadata": {},
   "outputs": [],
   "source": [
    "autophrase_qfin_df.iloc[90:100]"
   ]
  },
  {
   "cell_type": "code",
   "execution_count": null,
   "metadata": {},
   "outputs": [],
   "source": [
    "autophrase_qbio_labels = [1, 1, 0, 1, 0, 1, 0, 1, 1, 1, \n",
    "                         1, 1, 0, 0, 0, 1, 0, 0, 1, 1,\n",
    "                         0, 0, 1, 0, 0, 0, 0, 0, 0, 1,\n",
    "                         0, 1, 0, 0, 1, 0, 0, 1, 0, 0, \n",
    "                         0, 0, 0, 1, 0, 1, 1, 0, 0, 0,\n",
    "                         1, 0, 1, 0, 0, 0, 1, 0, 1, 0,\n",
    "                         1, 1, 1, 0, 0, 0, 0, 0, 0, 0, \n",
    "                         0, 1, 0, 0, 0, 0, 0, 0, 0, 1,\n",
    "                         1, 0, 0, 0, 0, 0, 0, 0, 0, 0,\n",
    "                         0, 0, 0, 0, 0, 0, 0, 0, 0, 0]"
   ]
  },
  {
   "cell_type": "markdown",
   "metadata": {},
   "source": [
    "### Jstor"
   ]
  },
  {
   "cell_type": "code",
   "execution_count": null,
   "metadata": {},
   "outputs": [],
   "source": [
    "# score\n",
    "jstor_qfin_phrases = {}"
   ]
  },
  {
   "cell_type": "code",
   "execution_count": null,
   "metadata": {},
   "outputs": [],
   "source": [
    "jstor_qfin_labels = []"
   ]
  },
  {
   "cell_type": "markdown",
   "metadata": {},
   "source": [
    "### Webtools"
   ]
  },
  {
   "cell_type": "code",
   "execution_count": null,
   "metadata": {},
   "outputs": [],
   "source": [
    "webtools_qfin_phrases = {}"
   ]
  },
  {
   "cell_type": "code",
   "execution_count": null,
   "metadata": {},
   "outputs": [],
   "source": [
    "# standardize it\n",
    "webtools_qfin_phrases = utils.min_max_scale(webtools_qfin_phrases)\n",
    "webtools_qfin_phrases"
   ]
  },
  {
   "cell_type": "code",
   "execution_count": null,
   "metadata": {},
   "outputs": [],
   "source": [
    "webtools_qfin_labels = []\n",
    "len(webtools_qfin_labels) == len(webtools_qfin_phrases)"
   ]
  },
  {
   "cell_type": "markdown",
   "metadata": {},
   "source": [
    "### MonkeyLearn"
   ]
  },
  {
   "cell_type": "code",
   "execution_count": null,
   "metadata": {},
   "outputs": [],
   "source": [
    "monkeylearn_qfin_phrases = {}"
   ]
  },
  {
   "cell_type": "code",
   "execution_count": null,
   "metadata": {},
   "outputs": [],
   "source": [
    "monkeylearn_qfin_labels = []"
   ]
  },
  {
   "cell_type": "code",
   "execution_count": null,
   "metadata": {},
   "outputs": [],
   "source": [
    "# graph\n",
    "utils.graph_precision_recall(autophrase_qfin_labels, autophrase_qfin_df,\n",
    "    jstor_qfin_labels, jstor_qfin_phrases, \n",
    "    webtools_qfin_labels, webtools_qfin_phrases,\n",
    "    monkeylearn_qfin_labels, monkeylearn_qfin_phrases, \"Quantitative Finance\")"
   ]
  },
  {
   "cell_type": "markdown",
   "metadata": {},
   "source": [
    "## Statistics"
   ]
  },
  {
   "cell_type": "markdown",
   "metadata": {},
   "source": [
    "### AutoLibrary"
   ]
  },
  {
   "cell_type": "code",
   "execution_count": null,
   "metadata": {},
   "outputs": [],
   "source": [
    "autophrase_stat_df = weighted_df['Statistics'].dropna().head(100)\n",
    "autophrase_stat_df"
   ]
  },
  {
   "cell_type": "code",
   "execution_count": null,
   "metadata": {},
   "outputs": [],
   "source": [
    "autophrase_stat_df.iloc[90:100]"
   ]
  },
  {
   "cell_type": "code",
   "execution_count": null,
   "metadata": {},
   "outputs": [],
   "source": [
    "autophrase_stat_labels = [0, 0, 0, 0, 0, 0, 0, 0, 0, 1, \n",
    "                         1, 1, 0, 0, 0, 0, 1, 0, 0, 1,\n",
    "                         0, 1, 1, 0, 0, 0, 0, 1, 0, 1,\n",
    "                         1, 1, 0, 0, 0, 1, 0, 1, 1, 1, \n",
    "                         0, 0, 0, 0, 1, 1, 0, 1, 1, 0,\n",
    "                         1, 1, 1, 0, 0, 1, 0, 1, 1, 0,\n",
    "                         1, 0, 0, 0, 1, 1, 0, 1, 0, 0,\n",
    "                         0, 0, 0, 1, 1, 1, 0, 0, 1, 0,\n",
    "                         1, 0, 0, 1, 1, 1, 0, 0, 0, 0,\n",
    "                         0, 1, 0, 1, 0, 0, 0, 0, 1, 0]"
   ]
  },
  {
   "cell_type": "markdown",
   "metadata": {},
   "source": [
    "### Jstor"
   ]
  },
  {
   "cell_type": "code",
   "execution_count": null,
   "metadata": {},
   "outputs": [],
   "source": [
    "# score\n",
    "jstor_stat_phrases = {}"
   ]
  },
  {
   "cell_type": "code",
   "execution_count": null,
   "metadata": {},
   "outputs": [],
   "source": [
    "jstor_stat_labels = []"
   ]
  },
  {
   "cell_type": "markdown",
   "metadata": {},
   "source": [
    "### Webtools"
   ]
  },
  {
   "cell_type": "code",
   "execution_count": null,
   "metadata": {},
   "outputs": [],
   "source": [
    "webtools_stat_phrases = {}"
   ]
  },
  {
   "cell_type": "code",
   "execution_count": null,
   "metadata": {},
   "outputs": [],
   "source": [
    "# standardize it\n",
    "webtools_stat_phrases = utils.min_max_scale(webtools_stat_phrases)\n",
    "webtools_stat_phrases"
   ]
  },
  {
   "cell_type": "code",
   "execution_count": null,
   "metadata": {},
   "outputs": [],
   "source": [
    "webtools_stat_labels = []\n",
    "len(webtools_stat_labels) == len(webtools_stat_phrases)"
   ]
  },
  {
   "cell_type": "markdown",
   "metadata": {},
   "source": [
    "### MonkeyLearn"
   ]
  },
  {
   "cell_type": "code",
   "execution_count": null,
   "metadata": {},
   "outputs": [],
   "source": [
    "monkeylearn_stat_phrases = {}"
   ]
  },
  {
   "cell_type": "code",
   "execution_count": null,
   "metadata": {},
   "outputs": [],
   "source": [
    "monkeylearn_stat_labels = []"
   ]
  },
  {
   "cell_type": "code",
   "execution_count": null,
   "metadata": {},
   "outputs": [],
   "source": [
    "# graph\n",
    "utils.graph_precision_recall(autophrase_stat_labels, autophrase_stat_df,\n",
    "    jstor_stat_labels, jstor_stat_phrases, \n",
    "    webtools_stat_labels, webtools_stat_phrases,\n",
    "    monkeylearn_stat_labels, monkeylearn_stat_phrases, \"Statistics\")"
   ]
  }
 ],
 "metadata": {
  "kernelspec": {
   "display_name": "Python 3",
   "language": "python",
   "name": "python3"
  },
  "language_info": {
   "codemirror_mode": {
    "name": "ipython",
    "version": 3
   },
   "file_extension": ".py",
   "mimetype": "text/x-python",
   "name": "python",
   "nbconvert_exporter": "python",
   "pygments_lexer": "ipython3",
   "version": "3.7.6"
  }
 },
 "nbformat": 4,
 "nbformat_minor": 4
}
