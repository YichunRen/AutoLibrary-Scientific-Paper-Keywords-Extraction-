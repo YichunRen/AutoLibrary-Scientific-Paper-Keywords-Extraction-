{
 "cells": [
  {
   "cell_type": "code",
   "execution_count": 46,
   "metadata": {},
   "outputs": [],
   "source": [
    "import os\n",
    "from sklearn.metrics import precision_recall_curve\n",
    "import matplotlib.pyplot as plt\n",
    "import pandas as pd"
   ]
  },
  {
   "cell_type": "markdown",
   "metadata": {},
   "source": [
    "# Results from other Text Analyzers"
   ]
  },
  {
   "cell_type": "markdown",
   "metadata": {},
   "source": [
    "## Computer Science"
   ]
  },
  {
   "cell_type": "markdown",
   "metadata": {},
   "source": [
    "### Jstor"
   ]
  },
  {
   "cell_type": "markdown",
   "metadata": {},
   "source": [
    "This search engine has its own text analyzer. It requires human labor to label quality scores."
   ]
  },
  {
   "cell_type": "code",
   "execution_count": 3,
   "metadata": {},
   "outputs": [],
   "source": [
    "# score\n",
    "jstor_cs_phrases = {\"Psychotherapy\": 0.99,\n",
    "\"Machine learning\": 0.1,\n",
    "\"Text analytics\": 0.95,\n",
    "\"Health care quality\": 0.55,\n",
    "\"Academic aptitude\": 0.3,\n",
    "\"Art therapy\": 0.66,\n",
    "\"Big data\": 0.5,\n",
    "\"Biomedical data\": 0.55,\n",
    "\"Computer centers\": 0.5,\n",
    "\"Audio engineering\": 0.9,\n",
    "\"Code pages\": 0.1,\n",
    "\"Compensatory education\": 0.2,\n",
    "\"Computer programming\": 0.9,\n",
    "\"Data analysis\": 0.65,\n",
    "\"Data collection\": 0.7,\n",
    "\"Educational technology\": 0.3,\n",
    "\"Data transcription\": 0.65,\n",
    "\"Data models\": 0.8,\n",
    "\"Government information\": 0.3,\n",
    "\"Health care utilization\": 0.5,\n",
    "\"In state students\": 0.1,\n",
    "\"Information attributes\": 0.4,\n",
    "\"Learning\": 0.1,\n",
    "\"Learning by doing\": 0.1,\n",
    "\"Logistic regression\": 0.7,\n",
    "\"Learning strategies\": 0.1,\n",
    "\"Out of state students\": 0.25,\n",
    "\"Psychological research\": 0.95,\n",
    "\"Public health\": 0.75,\n",
    "\"Speech acts\": 0.7,\n",
    "\"School counseling\": 0.6,\n",
    "\"Second language learning\": 0.15,\n",
    "\"Student interests\": 0.2,\n",
    "\"Students\": 0.3,\n",
    "\"Time series\": 0.75,\n",
    "\"Test theory\": 0.6,\n",
    "\"Small area data\": 0.6,\n",
    "\"Surveillance\": 0.9,\n",
    "\"Time series forecasting\": 0.8,\n",
    "\"ZIP codes\": 0.2}"
   ]
  },
  {
   "cell_type": "code",
   "execution_count": 36,
   "metadata": {},
   "outputs": [],
   "source": [
    "jstor_cs_labels = [1, 1, 1, 0, 0, 0, 1, 1, 0, 1, 0, 0, 0, 1, 1, 0, 0, 1, 0, 0, 0, 0, 0, 0, 1, 0, 0, 1, 0, 0, 1, 0, 0, 0, 1, 0, 0, 1, 1, 0]"
   ]
  },
  {
   "cell_type": "markdown",
   "metadata": {},
   "source": [
    "### AutoPhrase"
   ]
  },
  {
   "cell_type": "code",
   "execution_count": 44,
   "metadata": {},
   "outputs": [
    {
     "data": {
      "text/plain": [
       "['Mathematics',\n",
       " 'Statistics',\n",
       " 'Quantitative Finance',\n",
       " 'Economics',\n",
       " 'Physics',\n",
       " 'Quantitative Biology',\n",
       " 'Computer Science',\n",
       " 'Electrical Engineering and Systems Science']"
      ]
     },
     "execution_count": 44,
     "metadata": {},
     "output_type": "execute_result"
    }
   ],
   "source": [
    "dirs = os.listdir('../references/experiment data')\n",
    "#dirs.remove('.DS_Store')\n",
    "dirs"
   ]
  },
  {
   "cell_type": "code",
   "execution_count": 89,
   "metadata": {},
   "outputs": [
    {
     "data": {
      "text/html": [
       "<div>\n",
       "<style scoped>\n",
       "    .dataframe tbody tr th:only-of-type {\n",
       "        vertical-align: middle;\n",
       "    }\n",
       "\n",
       "    .dataframe tbody tr th {\n",
       "        vertical-align: top;\n",
       "    }\n",
       "\n",
       "    .dataframe thead tr th {\n",
       "        text-align: left;\n",
       "    }\n",
       "</style>\n",
       "<table border=\"1\" class=\"dataframe\">\n",
       "  <thead>\n",
       "    <tr>\n",
       "      <th></th>\n",
       "      <th colspan=\"2\" halign=\"left\">Economics</th>\n",
       "      <th colspan=\"2\" halign=\"left\">Computer Science</th>\n",
       "    </tr>\n",
       "    <tr>\n",
       "      <th></th>\n",
       "      <th>phrase</th>\n",
       "      <th>score</th>\n",
       "      <th>phrase</th>\n",
       "      <th>score</th>\n",
       "    </tr>\n",
       "  </thead>\n",
       "  <tbody>\n",
       "    <tr>\n",
       "      <th>0</th>\n",
       "      <td>affirmative action</td>\n",
       "      <td>0.854857</td>\n",
       "      <td>mental health</td>\n",
       "      <td>0.917283</td>\n",
       "    </tr>\n",
       "    <tr>\n",
       "      <th>1</th>\n",
       "      <td>school choice</td>\n",
       "      <td>0.765075</td>\n",
       "      <td>automatic speech recognition</td>\n",
       "      <td>0.876298</td>\n",
       "    </tr>\n",
       "    <tr>\n",
       "      <th>2</th>\n",
       "      <td>incentive compatibility</td>\n",
       "      <td>0.723872</td>\n",
       "      <td>substance abuse</td>\n",
       "      <td>0.871875</td>\n",
       "    </tr>\n",
       "    <tr>\n",
       "      <th>3</th>\n",
       "      <td>american</td>\n",
       "      <td>0.513310</td>\n",
       "      <td>machine learning</td>\n",
       "      <td>0.833653</td>\n",
       "    </tr>\n",
       "    <tr>\n",
       "      <th>4</th>\n",
       "      <td>college</td>\n",
       "      <td>0.500523</td>\n",
       "      <td>speech recognition</td>\n",
       "      <td>0.684244</td>\n",
       "    </tr>\n",
       "    <tr>\n",
       "      <th>5</th>\n",
       "      <td>NaN</td>\n",
       "      <td>NaN</td>\n",
       "      <td>real world</td>\n",
       "      <td>0.549731</td>\n",
       "    </tr>\n",
       "    <tr>\n",
       "      <th>6</th>\n",
       "      <td>NaN</td>\n",
       "      <td>NaN</td>\n",
       "      <td>utterance level</td>\n",
       "      <td>0.502412</td>\n",
       "    </tr>\n",
       "  </tbody>\n",
       "</table>\n",
       "</div>"
      ],
      "text/plain": [
       "                 Economics                        Computer Science          \n",
       "                    phrase     score                        phrase     score\n",
       "0       affirmative action  0.854857                 mental health  0.917283\n",
       "1            school choice  0.765075  automatic speech recognition  0.876298\n",
       "2  incentive compatibility  0.723872               substance abuse  0.871875\n",
       "3                 american  0.513310              machine learning  0.833653\n",
       "4                  college  0.500523            speech recognition  0.684244\n",
       "5                      NaN       NaN                    real world  0.549731\n",
       "6                      NaN       NaN               utterance level  0.502412"
      ]
     },
     "execution_count": 89,
     "metadata": {},
     "output_type": "execute_result"
    }
   ],
   "source": [
    "weighted = {}\n",
    "weighted_all = {}\n",
    "weighted_stats = pd.DataFrame()\n",
    "for directory in dirs:\n",
    "    try:\n",
    "        fp = '../references/experiment data/' + directory + '/weighted_AutoPhrase.csv'\n",
    "        df = pd.read_csv(fp, index_col='Unnamed: 0')\n",
    "        weighted_all[directory] = df\n",
    "        df = df[df['score'] > 0.5]\n",
    "        weighted[directory] = df\n",
    "        weighted_stats[directory] = df['score'].describe()\n",
    "    except:\n",
    "        pass\n",
    "weighted_df = pd.concat(weighted, axis=1)\n",
    "weighted_df.head(15)"
   ]
  },
  {
   "cell_type": "code",
   "execution_count": 86,
   "metadata": {},
   "outputs": [
    {
     "data": {
      "text/html": [
       "<div>\n",
       "<style scoped>\n",
       "    .dataframe tbody tr th:only-of-type {\n",
       "        vertical-align: middle;\n",
       "    }\n",
       "\n",
       "    .dataframe tbody tr th {\n",
       "        vertical-align: top;\n",
       "    }\n",
       "\n",
       "    .dataframe thead th {\n",
       "        text-align: right;\n",
       "    }\n",
       "</style>\n",
       "<table border=\"1\" class=\"dataframe\">\n",
       "  <thead>\n",
       "    <tr style=\"text-align: right;\">\n",
       "      <th></th>\n",
       "      <th>phrase</th>\n",
       "      <th>score</th>\n",
       "    </tr>\n",
       "  </thead>\n",
       "  <tbody>\n",
       "    <tr>\n",
       "      <th>0</th>\n",
       "      <td>mental health</td>\n",
       "      <td>0.917283</td>\n",
       "    </tr>\n",
       "    <tr>\n",
       "      <th>1</th>\n",
       "      <td>automatic speech recognition</td>\n",
       "      <td>0.876298</td>\n",
       "    </tr>\n",
       "    <tr>\n",
       "      <th>2</th>\n",
       "      <td>substance abuse</td>\n",
       "      <td>0.871875</td>\n",
       "    </tr>\n",
       "    <tr>\n",
       "      <th>3</th>\n",
       "      <td>machine learning</td>\n",
       "      <td>0.833653</td>\n",
       "    </tr>\n",
       "    <tr>\n",
       "      <th>4</th>\n",
       "      <td>speech recognition</td>\n",
       "      <td>0.684244</td>\n",
       "    </tr>\n",
       "    <tr>\n",
       "      <th>5</th>\n",
       "      <td>real world</td>\n",
       "      <td>0.549731</td>\n",
       "    </tr>\n",
       "    <tr>\n",
       "      <th>6</th>\n",
       "      <td>utterance level</td>\n",
       "      <td>0.502412</td>\n",
       "    </tr>\n",
       "  </tbody>\n",
       "</table>\n",
       "</div>"
      ],
      "text/plain": [
       "                         phrase     score\n",
       "0                 mental health  0.917283\n",
       "1  automatic speech recognition  0.876298\n",
       "2               substance abuse  0.871875\n",
       "3              machine learning  0.833653\n",
       "4            speech recognition  0.684244\n",
       "5                    real world  0.549731\n",
       "6               utterance level  0.502412"
      ]
     },
     "execution_count": 86,
     "metadata": {},
     "output_type": "execute_result"
    }
   ],
   "source": [
    "autophrase_cs_df = weighted_df['Computer Science'].dropna()\n",
    "autophrase_cs_df"
   ]
  },
  {
   "cell_type": "code",
   "execution_count": 87,
   "metadata": {},
   "outputs": [],
   "source": [
    "autophrase_cs_labels = [1, 1, 0, 1, 1, 0, 0]"
   ]
  },
  {
   "cell_type": "markdown",
   "metadata": {},
   "source": [
    "### Webtools: https://www.webtools.services/text-analyzer"
   ]
  },
  {
   "cell_type": "markdown",
   "metadata": {},
   "source": [
    "This website tool helps us find the frequency of phrases in a document. We then standardize it to form scores in range of 0 to 1."
   ]
  },
  {
   "cell_type": "code",
   "execution_count": 93,
   "metadata": {},
   "outputs": [],
   "source": [
    "webtools_cs_phrases = {\"of the\": 74,\n",
    "\"et al\": 45,\n",
    "\"to the\": 36,\n",
    "\"in the\": 28,\n",
    "\"for the\": 27,\n",
    "\"in order\": 15,\n",
    "\"the therapist\": 15,\n",
    "\"and the\": 15,\n",
    "\"in order to\": 14,\n",
    "\"the system\": 14,\n",
    "\"by the\": 13,\n",
    "\"it is\": 12,\n",
    "\"of a\": 12,\n",
    "\"the session\": 12,\n",
    "\"at the\": 12,\n",
    "\"from the\": 12,\n",
    "\"of psychotherapy\": 11,\n",
    "\"able to\": 11,\n",
    "\"with the\": 10,\n",
    "\"we have\": 10,\n",
    "\"we are\": 10,\n",
    "\"is not\": 10,\n",
    "\"the two\": 10,\n",
    "\"between the\": 10,\n",
    "\"university of\": 9,\n",
    "\"in a\": 9,\n",
    "\"has been\": 9,\n",
    "\"behavioral coding\": 9,\n",
    "\"of the system\": 9,\n",
    "\"speech and\": 8,\n",
    "\"more than\": 8,\n",
    "\"is a\": 8,\n",
    "\"as a\": 8,\n",
    "\"a variety of\": 8,\n",
    "\"in this\": 8,\n",
    "\"based on\": 8,\n",
    "\"the client\": 8,\n",
    "\"to be\": 8,\n",
    "\"using the\": 8,\n",
    "\"automated evaluation\": 7}"
   ]
  },
  {
   "cell_type": "code",
   "execution_count": 96,
   "metadata": {},
   "outputs": [
    {
     "data": {
      "text/plain": [
       "{'of the': 1.0,\n",
       " 'et al': 0.5671641791044776,\n",
       " 'to the': 0.43283582089552236,\n",
       " 'in the': 0.31343283582089554,\n",
       " 'for the': 0.29850746268656714,\n",
       " 'in order': 0.11940298507462686,\n",
       " 'the therapist': 0.11940298507462686,\n",
       " 'and the': 0.11940298507462686,\n",
       " 'in order to': 0.1044776119402985,\n",
       " 'the system': 0.1044776119402985,\n",
       " 'by the': 0.08955223880597014,\n",
       " 'it is': 0.07462686567164178,\n",
       " 'of a': 0.07462686567164178,\n",
       " 'the session': 0.07462686567164178,\n",
       " 'at the': 0.07462686567164178,\n",
       " 'from the': 0.07462686567164178,\n",
       " 'of psychotherapy': 0.05970149253731343,\n",
       " 'able to': 0.05970149253731343,\n",
       " 'with the': 0.04477611940298507,\n",
       " 'we have': 0.04477611940298507,\n",
       " 'we are': 0.04477611940298507,\n",
       " 'is not': 0.04477611940298507,\n",
       " 'the two': 0.04477611940298507,\n",
       " 'between the': 0.04477611940298507,\n",
       " 'university of': 0.029850746268656716,\n",
       " 'in a': 0.029850746268656716,\n",
       " 'has been': 0.029850746268656716,\n",
       " 'behavioral coding': 0.029850746268656716,\n",
       " 'of the system': 0.029850746268656716,\n",
       " 'speech and': 0.014925373134328358,\n",
       " 'more than': 0.014925373134328358,\n",
       " 'is a': 0.014925373134328358,\n",
       " 'as a': 0.014925373134328358,\n",
       " 'a variety of': 0.014925373134328358,\n",
       " 'in this': 0.014925373134328358,\n",
       " 'based on': 0.014925373134328358,\n",
       " 'the client': 0.014925373134328358,\n",
       " 'to be': 0.014925373134328358,\n",
       " 'using the': 0.014925373134328358,\n",
       " 'automated evaluation': 0.0}"
      ]
     },
     "execution_count": 96,
     "metadata": {},
     "output_type": "execute_result"
    }
   ],
   "source": [
    "# standardize it\n",
    "fre_min = min(webtools_cs_phrases.values())\n",
    "fre_max = max(webtools_cs_phrases.values())\n",
    "for key in webtools_cs_phrases:\n",
    "    cur = webtools_cs_phrases[key]\n",
    "    webtools_cs_phrases[key] = (cur - fre_min) / (fre_max - fre_min)\n",
    "webtools_cs_phrases"
   ]
  },
  {
   "cell_type": "code",
   "execution_count": 102,
   "metadata": {},
   "outputs": [
    {
     "data": {
      "text/plain": [
       "40"
      ]
     },
     "execution_count": 102,
     "metadata": {},
     "output_type": "execute_result"
    }
   ],
   "source": [
    "webtools_cs_labels = [0, 0, 0, 0, 0, 0, 1, 0, 0, 1, 0, 0, 0, 1, 0, 0, 1, 0, 0, 0, 0, 0, 0, 0, 0, 0, 0, 1, 0, 1, 0, 0, 0, 0, 0, 0, 1, 0, 0, 1]\n",
    "len(webtools_cs_labels)"
   ]
  },
  {
   "cell_type": "code",
   "execution_count": 103,
   "metadata": {},
   "outputs": [
    {
     "data": {
      "image/png": "[encoded data removed]",
      "text/plain": [
       "<Figure size 720x576 with 1 Axes>"
      ]
     },
     "metadata": {
      "needs_background": "light"
     },
     "output_type": "display_data"
    }
   ],
   "source": [
    "plt.figure(figsize=(10, 8))\n",
    "# jstor\n",
    "precision, recall, thresholds = precision_recall_curve(\n",
    "        y_true=jstor_cs_labels,\n",
    "        probas_pred=list(jstor_cs_phrases.values()))\n",
    "plt.plot(recall, precision, scalex=False, scaley=False, label = \"Jstor\")\n",
    "# autophrase\n",
    "precision, recall, thresholds = precision_recall_curve(\n",
    "        y_true=autophrase_cs_labels,\n",
    "        probas_pred=autophrase_cs_df.score)\n",
    "plt.plot(recall, precision, scalex=False, scaley=False, label = \"AutoPhrase\")\n",
    "# webtools\n",
    "precision, recall, thresholds = precision_recall_curve(\n",
    "        y_true=webtools_cs_labels,\n",
    "        probas_pred=list(webtools_cs_phrases.values()))\n",
    "plt.plot(recall, precision, scalex=False, scaley=False, label = \"Webtools\")\n",
    "plt.title('Precision-Recall Curve', fontsize=25)\n",
    "plt.xlabel('Recall')\n",
    "plt.ylabel('Precision')\n",
    "plt.legend(loc=\"best\")\n",
    "plt.show()"
   ]
  },
  {
   "cell_type": "markdown",
   "metadata": {},
   "source": [
    "### MonkeyLearn: https://monkeylearn.com/text-analyzer/"
   ]
  },
  {
   "cell_type": "markdown",
   "metadata": {},
   "source": [
    "This text analyzer extracts keywords from the document. It requires human labor to label quality scores."
   ]
  },
  {
   "cell_type": "code",
   "execution_count": 107,
   "metadata": {},
   "outputs": [],
   "source": [
    "monkeylearn_cs_phrases = {\"sessions\": 0.45,\n",
    "\"codes\": 0.1,\n",
    "\"utterances\": 0.5,\n",
    "\"behavioral coding\": 0.7,\n",
    "\"therapist\": 0.65,\n",
    "\"international speech communication\": 0.3,\n",
    "\"Automatic Speech Recognition\": 0.9,\n",
    "\"speech communication association\": 0.8,\n",
    "\"Proc\": 0.1,\n",
    "\"psychotherapy\": 0.95}"
   ]
  },
  {
   "cell_type": "code",
   "execution_count": 108,
   "metadata": {},
   "outputs": [],
   "source": [
    "monkeylearn_cs_labels = [1, 0, 0, 1, 1, 1, 1, 1, 0, 1]"
   ]
  },
  {
   "cell_type": "code",
   "execution_count": 109,
   "metadata": {},
   "outputs": [
    {
     "data": {
      "image/png": "[encoded data removed]",
      "text/plain": [
       "<Figure size 720x576 with 1 Axes>"
      ]
     },
     "metadata": {
      "needs_background": "light"
     },
     "output_type": "display_data"
    }
   ],
   "source": [
    "plt.figure(figsize=(10, 8))\n",
    "# jstor\n",
    "precision, recall, thresholds = precision_recall_curve(\n",
    "        y_true=jstor_cs_labels,\n",
    "        probas_pred=list(jstor_cs_phrases.values()))\n",
    "plt.plot(recall, precision, scalex=False, scaley=False, label = \"Jstor\")\n",
    "# autophrase\n",
    "precision, recall, thresholds = precision_recall_curve(\n",
    "        y_true=autophrase_cs_labels,\n",
    "        probas_pred=autophrase_cs_df.score)\n",
    "plt.plot(recall, precision, scalex=False, scaley=False, label = \"AutoPhrase\")\n",
    "# webtools\n",
    "precision, recall, thresholds = precision_recall_curve(\n",
    "        y_true=webtools_cs_labels,\n",
    "        probas_pred=list(webtools_cs_phrases.values()))\n",
    "plt.plot(recall, precision, scalex=False, scaley=False, label = \"Webtools\")\n",
    "# monkeylearn\n",
    "precision, recall, thresholds = precision_recall_curve(\n",
    "        y_true=monkeylearn_cs_labels,\n",
    "        probas_pred=list(monkeylearn_cs_phrases.values()))\n",
    "plt.plot(recall, precision, scalex=False, scaley=False, label = \"monkeylearn\")\n",
    "plt.title('Precision-Recall Curve', fontsize=25)\n",
    "plt.xlabel('Recall')\n",
    "plt.ylabel('Precision')\n",
    "plt.legend(loc=\"best\")\n",
    "plt.show()"
   ]
  }
 ],
 "metadata": {
  "kernelspec": {
   "display_name": "Python 3 (clean)",
   "language": "python",
   "name": "python3_clean"
  },
  "language_info": {
   "codemirror_mode": {
    "name": "ipython",
    "version": 3
   },
   "file_extension": ".py",
   "mimetype": "text/x-python",
   "name": "python",
   "nbconvert_exporter": "python",
   "pygments_lexer": "ipython3",
   "version": "3.7.6"
  }
 },
 "nbformat": 4,
 "nbformat_minor": 4
}
